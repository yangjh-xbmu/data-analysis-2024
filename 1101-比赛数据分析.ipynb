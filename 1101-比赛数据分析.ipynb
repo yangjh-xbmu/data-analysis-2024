{
 "cells": [
  {
   "cell_type": "code",
   "execution_count": 1,
   "metadata": {},
   "outputs": [],
   "source": [
    "import mytools\n",
    "import pandas as pd"
   ]
  },
  {
   "cell_type": "code",
   "execution_count": 2,
   "metadata": {},
   "outputs": [
    {
     "data": {
      "text/html": [
       "<div>\n",
       "<style scoped>\n",
       "    .dataframe tbody tr th:only-of-type {\n",
       "        vertical-align: middle;\n",
       "    }\n",
       "\n",
       "    .dataframe tbody tr th {\n",
       "        vertical-align: top;\n",
       "    }\n",
       "\n",
       "    .dataframe thead th {\n",
       "        text-align: right;\n",
       "    }\n",
       "</style>\n",
       "<table border=\"1\" class=\"dataframe\">\n",
       "  <thead>\n",
       "    <tr style=\"text-align: right;\">\n",
       "      <th></th>\n",
       "      <th>0</th>\n",
       "      <th>1</th>\n",
       "      <th>2</th>\n",
       "      <th>3</th>\n",
       "      <th>4</th>\n",
       "      <th>5</th>\n",
       "      <th>6</th>\n",
       "    </tr>\n",
       "  </thead>\n",
       "  <tbody>\n",
       "    <tr>\n",
       "      <th>0</th>\n",
       "      <td>大类名称</td>\n",
       "      <td>奖项</td>\n",
       "      <td>作品编号</td>\n",
       "      <td>作品名称</td>\n",
       "      <td>参赛学校</td>\n",
       "      <td>参赛作者</td>\n",
       "      <td>指导教师</td>\n",
       "    </tr>\n",
       "    <tr>\n",
       "      <th>1</th>\n",
       "      <td>大数据应用</td>\n",
       "      <td>二等奖</td>\n",
       "      <td>2023004893</td>\n",
       "      <td>数字孪生技术驱动的冲击地压监测预警大数据平台</td>\n",
       "      <td>中国矿业大学</td>\n",
       "      <td>华展博,王柯力,朱少行</td>\n",
       "      <td>徐晓,曹安业</td>\n",
       "    </tr>\n",
       "    <tr>\n",
       "      <th>2</th>\n",
       "      <td>大数据应用</td>\n",
       "      <td>二等奖</td>\n",
       "      <td>2023005489</td>\n",
       "      <td>气候变暖对河南省小麦产量的影响</td>\n",
       "      <td>河南财经政法大学</td>\n",
       "      <td>薛舒文,杨程博,贾向真</td>\n",
       "      <td>刘江伟</td>\n",
       "    </tr>\n",
       "  </tbody>\n",
       "</table>\n",
       "</div>"
      ],
      "text/plain": [
       "       0    1           2                       3         4            5  \\\n",
       "0   大类名称   奖项        作品编号                    作品名称      参赛学校         参赛作者   \n",
       "1  大数据应用  二等奖  2023004893  数字孪生技术驱动的冲击地压监测预警大数据平台    中国矿业大学  华展博,王柯力,朱少行   \n",
       "2  大数据应用  二等奖  2023005489         气候变暖对河南省小麦产量的影响  河南财经政法大学  薛舒文,杨程博,贾向真   \n",
       "\n",
       "        6  \n",
       "0    指导教师  \n",
       "1  徐晓,曹安业  \n",
       "2     刘江伟  "
      ]
     },
     "execution_count": 2,
     "metadata": {},
     "output_type": "execute_result"
    }
   ],
   "source": [
    "df_competition = mytools.extract_table_from_pdf(r'data\\2023计算机设计大赛国奖.pdf',2)\n",
    "df_competition.head(3)"
   ]
  },
  {
   "cell_type": "code",
   "execution_count": 5,
   "metadata": {},
   "outputs": [],
   "source": [
    "df_competition.to_csv('data/2023计算机设计大赛国奖.csv',header=False,index=False)"
   ]
  },
  {
   "cell_type": "code",
   "execution_count": 6,
   "metadata": {},
   "outputs": [],
   "source": [
    "df_competition2 = pd.read_csv('data/2023计算机设计大赛国奖.csv')"
   ]
  },
  {
   "cell_type": "code",
   "execution_count": 7,
   "metadata": {},
   "outputs": [
    {
     "name": "stdout",
     "output_type": "stream",
     "text": [
      "已删除大类名称为'大类名称'的行，并保存到'2023计算机设计大赛国奖_cleaned.csv'文件中。\n"
     ]
    }
   ],
   "source": [
    "import pandas as pd\n",
    "\n",
    "# 读取CSV文件\n",
    "df3 = pd.read_csv('data/2023计算机设计大赛国奖.csv')\n",
    "\n",
    "# 查找大类名称中取值为“大类名称”的行\n",
    "rows_to_delete = df3[df3['大类名称'] == '大类名称']\n",
    "\n",
    "# 删除这些行\n",
    "df_cleaned = df3.drop(rows_to_delete.index)\n",
    "\n",
    "# 保存清理后的数据到新的CSV文件\n",
    "df_cleaned.to_csv(r'data/2023计算机设计大赛国奖_cleaned.csv', index=False)\n",
    "\n",
    "print(\"已删除大类名称为'大类名称'的行，并保存到'2023计算机设计大赛国奖_cleaned.csv'文件中。\")"
   ]
  },
  {
   "cell_type": "code",
   "execution_count": 16,
   "metadata": {},
   "outputs": [],
   "source": [
    "def get_university_cat(大学名称 = '南京大学'):\n",
    "\n",
    "    提示词 = f'''\n",
    "    请扮演中国大学教育专家，为我提供如下信息：\n",
    "\n",
    "    {大学名称}是哪一类学校（985、211、双一流、双非、民办）：\n",
    "\n",
    "    请根据{大学名称}的实际情况，返回类别，不要给出任何多余的信息，我要用你的返回值进行数据分类。\n",
    "    \n",
    "    ## 分类规则\n",
    "    1. 如果一个学校是985，也是211，请返回985\n",
    "    1. 如果一个学校是985或211，也是双一流，请返回985或211\n",
    "    1. 如果你没有把握，请返回\"其它\"\n",
    "    '''\n",
    "\n",
    "    return mytools.dsllm(提示词)"
   ]
  },
  {
   "cell_type": "code",
   "execution_count": 17,
   "metadata": {},
   "outputs": [
    {
     "data": {
      "text/plain": [
       "'其它'"
      ]
     },
     "execution_count": 17,
     "metadata": {},
     "output_type": "execute_result"
    }
   ],
   "source": [
    "get_university_cat('四川传媒学院')"
   ]
  },
  {
   "cell_type": "code",
   "execution_count": 18,
   "metadata": {},
   "outputs": [],
   "source": [
    "df4 = pd.read_csv('data/2023计算机设计大赛国奖_cleaned.csv',nrows=5)"
   ]
  },
  {
   "cell_type": "code",
   "execution_count": 19,
   "metadata": {},
   "outputs": [],
   "source": [
    "df4['学校类型'] = df4['参赛学校'].apply(get_university_cat)"
   ]
  },
  {
   "cell_type": "code",
   "execution_count": 22,
   "metadata": {},
   "outputs": [
    {
     "data": {
      "text/html": [
       "<div>\n",
       "<style scoped>\n",
       "    .dataframe tbody tr th:only-of-type {\n",
       "        vertical-align: middle;\n",
       "    }\n",
       "\n",
       "    .dataframe tbody tr th {\n",
       "        vertical-align: top;\n",
       "    }\n",
       "\n",
       "    .dataframe thead th {\n",
       "        text-align: right;\n",
       "    }\n",
       "</style>\n",
       "<table border=\"1\" class=\"dataframe\">\n",
       "  <thead>\n",
       "    <tr style=\"text-align: right;\">\n",
       "      <th></th>\n",
       "      <th>大类名称</th>\n",
       "      <th>奖项</th>\n",
       "      <th>作品编号</th>\n",
       "      <th>作品名称</th>\n",
       "      <th>参赛学校</th>\n",
       "      <th>参赛作者</th>\n",
       "      <th>指导教师</th>\n",
       "    </tr>\n",
       "  </thead>\n",
       "  <tbody>\n",
       "    <tr>\n",
       "      <th>0</th>\n",
       "      <td>大数据应用</td>\n",
       "      <td>二等奖</td>\n",
       "      <td>2023004893</td>\n",
       "      <td>数字孪生技术驱动的冲击地压监测预警大数据平台</td>\n",
       "      <td>中国矿业大学</td>\n",
       "      <td>华展博,王柯力,朱少行</td>\n",
       "      <td>徐晓,曹安业</td>\n",
       "    </tr>\n",
       "    <tr>\n",
       "      <th>1</th>\n",
       "      <td>大数据应用</td>\n",
       "      <td>二等奖</td>\n",
       "      <td>2023005489</td>\n",
       "      <td>气候变暖对河南省小麦产量的影响</td>\n",
       "      <td>河南财经政法大学</td>\n",
       "      <td>薛舒文,杨程博,贾向真</td>\n",
       "      <td>刘江伟</td>\n",
       "    </tr>\n",
       "    <tr>\n",
       "      <th>2</th>\n",
       "      <td>大数据应用</td>\n",
       "      <td>二等奖</td>\n",
       "      <td>2023005604</td>\n",
       "      <td>基于大数据的智慧农林灌溉系统</td>\n",
       "      <td>江苏第二师范学院</td>\n",
       "      <td>许晟,王怡静,赵子霆</td>\n",
       "      <td>倪艺洋,周近</td>\n",
       "    </tr>\n",
       "    <tr>\n",
       "      <th>3</th>\n",
       "      <td>大数据应用</td>\n",
       "      <td>二等奖</td>\n",
       "      <td>2023005986</td>\n",
       "      <td>基于区块链和人工智能的渔业种质资源可信确权管理及辅\\n助决策系统设计与实现</td>\n",
       "      <td>仲恺农业工程学院</td>\n",
       "      <td>李麟燊,谢志洋,刘奕顺</td>\n",
       "      <td>徐龙琴,谢彩健</td>\n",
       "    </tr>\n",
       "    <tr>\n",
       "      <th>4</th>\n",
       "      <td>大数据应用</td>\n",
       "      <td>二等奖</td>\n",
       "      <td>2023006079</td>\n",
       "      <td>锐眼识症——AI影像辅助诊断系统</td>\n",
       "      <td>大连理工大学</td>\n",
       "      <td>吴鑫卓,杨新磊,程书晗</td>\n",
       "      <td>金博</td>\n",
       "    </tr>\n",
       "  </tbody>\n",
       "</table>\n",
       "</div>"
      ],
      "text/plain": [
       "    大类名称   奖项        作品编号                                   作品名称      参赛学校  \\\n",
       "0  大数据应用  二等奖  2023004893                 数字孪生技术驱动的冲击地压监测预警大数据平台    中国矿业大学   \n",
       "1  大数据应用  二等奖  2023005489                        气候变暖对河南省小麦产量的影响  河南财经政法大学   \n",
       "2  大数据应用  二等奖  2023005604                         基于大数据的智慧农林灌溉系统  江苏第二师范学院   \n",
       "3  大数据应用  二等奖  2023005986  基于区块链和人工智能的渔业种质资源可信确权管理及辅\\n助决策系统设计与实现  仲恺农业工程学院   \n",
       "4  大数据应用  二等奖  2023006079                       锐眼识症——AI影像辅助诊断系统    大连理工大学   \n",
       "\n",
       "          参赛作者     指导教师  \n",
       "0  华展博,王柯力,朱少行   徐晓,曹安业  \n",
       "1  薛舒文,杨程博,贾向真      刘江伟  \n",
       "2   许晟,王怡静,赵子霆   倪艺洋,周近  \n",
       "3  李麟燊,谢志洋,刘奕顺  徐龙琴,谢彩健  \n",
       "4  吴鑫卓,杨新磊,程书晗       金博  "
      ]
     },
     "execution_count": 22,
     "metadata": {},
     "output_type": "execute_result"
    }
   ],
   "source": [
    "df4.drop(columns= '学校类型')"
   ]
  }
 ],
 "metadata": {
  "kernelspec": {
   "display_name": "Python 3",
   "language": "python",
   "name": "python3"
  },
  "language_info": {
   "codemirror_mode": {
    "name": "ipython",
    "version": 3
   },
   "file_extension": ".py",
   "mimetype": "text/x-python",
   "name": "python",
   "nbconvert_exporter": "python",
   "pygments_lexer": "ipython3",
   "version": "3.8.10"
  }
 },
 "nbformat": 4,
 "nbformat_minor": 2
}
