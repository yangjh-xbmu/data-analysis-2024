{
 "cells": [
  {
   "cell_type": "code",
   "execution_count": 1,
   "metadata": {},
   "outputs": [],
   "source": [
    "import mytools\n",
    "import pandas as pd"
   ]
  },
  {
   "cell_type": "code",
   "execution_count": 2,
   "metadata": {},
   "outputs": [
    {
     "data": {
      "text/html": [
       "<div>\n",
       "<style scoped>\n",
       "    .dataframe tbody tr th:only-of-type {\n",
       "        vertical-align: middle;\n",
       "    }\n",
       "\n",
       "    .dataframe tbody tr th {\n",
       "        vertical-align: top;\n",
       "    }\n",
       "\n",
       "    .dataframe thead th {\n",
       "        text-align: right;\n",
       "    }\n",
       "</style>\n",
       "<table border=\"1\" class=\"dataframe\">\n",
       "  <thead>\n",
       "    <tr style=\"text-align: right;\">\n",
       "      <th></th>\n",
       "      <th>0</th>\n",
       "      <th>1</th>\n",
       "      <th>2</th>\n",
       "      <th>3</th>\n",
       "      <th>4</th>\n",
       "      <th>5</th>\n",
       "      <th>6</th>\n",
       "    </tr>\n",
       "  </thead>\n",
       "  <tbody>\n",
       "    <tr>\n",
       "      <th>0</th>\n",
       "      <td>大类名称</td>\n",
       "      <td>奖项</td>\n",
       "      <td>作品编号</td>\n",
       "      <td>作品名称</td>\n",
       "      <td>参赛学校</td>\n",
       "      <td>参赛作者</td>\n",
       "      <td>指导教师</td>\n",
       "    </tr>\n",
       "    <tr>\n",
       "      <th>1</th>\n",
       "      <td>大数据应用</td>\n",
       "      <td>二等奖</td>\n",
       "      <td>2023004893</td>\n",
       "      <td>数字孪生技术驱动的冲击地压监测预警大数据平台</td>\n",
       "      <td>中国矿业大学</td>\n",
       "      <td>华展博,王柯力,朱少行</td>\n",
       "      <td>徐晓,曹安业</td>\n",
       "    </tr>\n",
       "    <tr>\n",
       "      <th>2</th>\n",
       "      <td>大数据应用</td>\n",
       "      <td>二等奖</td>\n",
       "      <td>2023005489</td>\n",
       "      <td>气候变暖对河南省小麦产量的影响</td>\n",
       "      <td>河南财经政法大学</td>\n",
       "      <td>薛舒文,杨程博,贾向真</td>\n",
       "      <td>刘江伟</td>\n",
       "    </tr>\n",
       "  </tbody>\n",
       "</table>\n",
       "</div>"
      ],
      "text/plain": [
       "       0    1           2                       3         4            5  \\\n",
       "0   大类名称   奖项        作品编号                    作品名称      参赛学校         参赛作者   \n",
       "1  大数据应用  二等奖  2023004893  数字孪生技术驱动的冲击地压监测预警大数据平台    中国矿业大学  华展博,王柯力,朱少行   \n",
       "2  大数据应用  二等奖  2023005489         气候变暖对河南省小麦产量的影响  河南财经政法大学  薛舒文,杨程博,贾向真   \n",
       "\n",
       "        6  \n",
       "0    指导教师  \n",
       "1  徐晓,曹安业  \n",
       "2     刘江伟  "
      ]
     },
     "execution_count": 2,
     "metadata": {},
     "output_type": "execute_result"
    }
   ],
   "source": [
    "df_competition = mytools.extract_table_from_pdf(r'data\\2023计算机设计大赛国奖.pdf',2)\n",
    "df_competition.head(3)"
   ]
  }
 ],
 "metadata": {
  "kernelspec": {
   "display_name": "Python 3",
   "language": "python",
   "name": "python3"
  },
  "language_info": {
   "codemirror_mode": {
    "name": "ipython",
    "version": 3
   },
   "file_extension": ".py",
   "mimetype": "text/x-python",
   "name": "python",
   "nbconvert_exporter": "python",
   "pygments_lexer": "ipython3",
   "version": "3.8.10"
  }
 },
 "nbformat": 4,
 "nbformat_minor": 2
}
