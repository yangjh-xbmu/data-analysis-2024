{
 "cells": [
  {
   "cell_type": "code",
   "execution_count": 1,
   "metadata": {},
   "outputs": [],
   "source": [
    "import mytools\n",
    "import pandas as pd\n",
    "import plotly.express as px"
   ]
  },
  {
   "cell_type": "code",
   "execution_count": 2,
   "metadata": {},
   "outputs": [
    {
     "name": "stdout",
     "output_type": "stream",
     "text": [
      "提取的表格内容:\n",
      "     大类名称   奖项        作品编号                                          作品名称  \\\n",
      "0   大数据应用  二等奖  2022032880                           数据解读后疫情时代的全球应对与中国策略   \n",
      "1   大数据应用  二等奖  2022032896                                 从大数据中解读疫情衍生风险   \n",
      "2   大数据应用  二等奖  2022033274                      基于异构计算的基因大数据GWAS算法计算加速研究   \n",
      "3   大数据应用  二等奖  2022033387                                     大数据下的新冠疫情   \n",
      "4   大数据应用  二等奖  2022034681  军链-基于知识图谱的BILSTM-CRF和BIGRU自然语言处\\n理模型和杀伤链匹配系统   \n",
      "5   大数据应用  二等奖  2022034943             “负面预警通”——面向海量互联网文本的企业负面事\\n件智能预警系统   \n",
      "6   大数据应用  二等奖  2022035309                      面向多维水污染时间序列矩阵分析的河道精准监测应用   \n",
      "7   大数据应用  二等奖  2022035375                              基于元学习孪生网络的舌象辅助诊断   \n",
      "8   大数据应用  二等奖  2022035550                       基于深度学习的CXR图像肺炎识别和病灶定位系统   \n",
      "9   大数据应用  二等奖  2022036317           CAIPredictor——基于国际文献大数据的跨领域论文推\\n荐系统   \n",
      "10  大数据应用  二等奖  2022037224                                       数智抗疫向未来   \n",
      "11  大数据应用  二等奖  2022037320                         基于深度学习的西江航道水位预测服务系统研究   \n",
      "12  大数据应用  二等奖  2022039193                                      智慧医疗服务平台   \n",
      "13  大数据应用  二等奖  2022039417                           基于时间序列模型和聚类分析解读全球经济   \n",
      "14  大数据应用  二等奖  2022040162                            新冠疫情下不同类型国家政策的比较分析   \n",
      "15  大数据应用  二等奖  2022040307                        基于微博关键词提取的上海疫情舆论热点情感分析   \n",
      "16  大数据应用  二等奖  2022041074          基于ARIMA-CNN-LSTM的多变量黄河水位时间序列预测\\n模型研究   \n",
      "17  大数据应用  二等奖  2022047247                                 基于知识图谱的智慧司法平台   \n",
      "18  大数据应用  二等奖  2022047281                       “医”来二去：海量医学文献的语义消歧与推荐系统   \n",
      "19  大数据应用  二等奖  2022047827                 基于Hive数据仓库和Sklearn回归分析人才招聘大数据   \n",
      "20  大数据应用  二等奖  2022048667                             基于卷积神经网络的核桃虫害识别系统   \n",
      "21  大数据应用  二等奖  2022050580                         360°云医——基于深度学习的全景医疗系统   \n",
      "22  大数据应用  二等奖  2022051073                       基于半监督深度学习的弹幕文本大数据情感识别系统   \n",
      "\n",
      "         参赛学校            作者        指导教师  \n",
      "0      华东师范大学    廖静,雷超晶,张智渊          刘垚  \n",
      "1      武汉理工大学   张羽桐,殷梦姿,黄梓悦          刘春  \n",
      "2      武汉理工大学   叶晓艺,陈泽强,李雅馨      柳星,饶文碧  \n",
      "3        东华大学   张瀚闻,俞佳艺,徐时昊         周军锋  \n",
      "4    中南林业科技大学    刘宇健,涂光明,刘韬     周国雄,薛永飞  \n",
      "5    中南林业科技大学       李遇奇,首云涛       孟涛,艾玮  \n",
      "6      湖北工业大学      陶瑶,刘斌,辛达     魏丞昊,叶志伟  \n",
      "7      南昌航空大学   王泽川,贾欣洋,龙宇浩          熊宇  \n",
      "8      长沙理工大学   林俊宜,徐靖超,李若寒       王新,王威  \n",
      "9    中南财经政法大学    徐珺妍,范语涵,王星         张承德  \n",
      "10     南京师范大学    吴卓超,王徵璇,薛枫     钱伟行,刘益剑  \n",
      "11       梧州学院   彭倩楠,吴昆福,廖伟泽     卢禹成,吕海峰  \n",
      "12   安徽信息工程学院    潘叙磊,陈骏耀,聂爽     夏慧敏,尹辉平  \n",
      "13     武汉理工大学       王汶硕,张桂就      彭德巍,彭强  \n",
      "14     北京邮电大学    李岳霖,刘威,关力玮         尉志青  \n",
      "15       海南大学    王悦,何佳藓,杨子硕     黎才茂,刘迎冰  \n",
      "16       河南大学   张仲越,陈帅宇,蒋浩南          蒋磊  \n",
      "17       湘潭大学  于浩阳,欧阳锦智,刘思科  欧阳建权,唐欢\\n容  \n",
      "18     河南工业大学   陈伟楷,刘国震,钟克针         张玉宏  \n",
      "19  中国社会科学院大学     李鑫,王喆,李姮烨      朱俭,蒋欣兰  \n",
      "20       广西大学   苏小婷,张卓颖,王馨灿         黄汝维  \n",
      "21       南昌大学   江润民,谢晶晶,叶志刚     王玉皞,于海雯  \n",
      "22     合肥工业大学       姚啸宇,高仁至         伍章俊  \n"
     ]
    }
   ],
   "source": [
    "import pdfplumber\n",
    "\n",
    "# 打开PDF文件\n",
    "with pdfplumber.open('data/2022计算机设计大赛国奖.pdf') as pdf:\n",
    "    # 获取第四页\n",
    "    page = pdf.pages[5]\n",
    "    \n",
    "    # 提取表格\n",
    "    tables = page.extract_tables()\n",
    "    \n",
    "    # 如果有表格，转换第一个表格为DataFrame\n",
    "    if tables:\n",
    "        df4 = pd.DataFrame(tables[0][1:], columns=tables[0][0])\n",
    "        print(\"提取的表格内容:\")\n",
    "        print(df4)"
   ]
  },
  {
   "cell_type": "code",
   "execution_count": 3,
   "metadata": {},
   "outputs": [
    {
     "data": {
      "text/html": [
       "<div>\n",
       "<style scoped>\n",
       "    .dataframe tbody tr th:only-of-type {\n",
       "        vertical-align: middle;\n",
       "    }\n",
       "\n",
       "    .dataframe tbody tr th {\n",
       "        vertical-align: top;\n",
       "    }\n",
       "\n",
       "    .dataframe thead th {\n",
       "        text-align: right;\n",
       "    }\n",
       "</style>\n",
       "<table border=\"1\" class=\"dataframe\">\n",
       "  <thead>\n",
       "    <tr style=\"text-align: right;\">\n",
       "      <th></th>\n",
       "      <th>大类名称</th>\n",
       "      <th>奖项</th>\n",
       "      <th>作品编号</th>\n",
       "      <th>作品名称</th>\n",
       "      <th>参赛学校</th>\n",
       "      <th>作者</th>\n",
       "      <th>指导教师</th>\n",
       "    </tr>\n",
       "  </thead>\n",
       "  <tbody>\n",
       "    <tr>\n",
       "      <th>0</th>\n",
       "      <td>大数据应用</td>\n",
       "      <td>二等奖</td>\n",
       "      <td>2022006286</td>\n",
       "      <td>基于公共匿名平台数据的高校大学生心理健康问题识别\\n系统</td>\n",
       "      <td>南京大学</td>\n",
       "      <td>汪舒宽,章梦晨,申佳蕾</td>\n",
       "      <td>戴新宇,陈颖</td>\n",
       "    </tr>\n",
       "    <tr>\n",
       "      <th>1</th>\n",
       "      <td>大数据应用</td>\n",
       "      <td>二等奖</td>\n",
       "      <td>2022009288</td>\n",
       "      <td>基于SOA农业大数据管理服务平台</td>\n",
       "      <td>石河子大学</td>\n",
       "      <td>杜蕾,李智轩,秦源</td>\n",
       "      <td>于宝华,陈凤</td>\n",
       "    </tr>\n",
       "    <tr>\n",
       "      <th>2</th>\n",
       "      <td>大数据应用</td>\n",
       "      <td>二等奖</td>\n",
       "      <td>2022009615</td>\n",
       "      <td>基于对抗性迁移学习的药品不良反应监测研究</td>\n",
       "      <td>南京邮电大学</td>\n",
       "      <td>仲雨乐,陆豪杰,马诗雯</td>\n",
       "      <td>韩普</td>\n",
       "    </tr>\n",
       "    <tr>\n",
       "      <th>3</th>\n",
       "      <td>大数据应用</td>\n",
       "      <td>二等奖</td>\n",
       "      <td>2022009964</td>\n",
       "      <td>大数据技术在新冠病毒基因组序列分析中的应用</td>\n",
       "      <td>武汉学院</td>\n",
       "      <td>罗今灿,顾欣,郭迟</td>\n",
       "      <td>朱福喜,郑克松</td>\n",
       "    </tr>\n",
       "    <tr>\n",
       "      <th>4</th>\n",
       "      <td>大数据应用</td>\n",
       "      <td>二等奖</td>\n",
       "      <td>2022010069</td>\n",
       "      <td>数据解读新冠疫情与全球应对--基于因果机器学习的新\\n冠疫情与全球经济无偏分析</td>\n",
       "      <td>郑州大学</td>\n",
       "      <td>肖志轩,李承毅,牛力贤</td>\n",
       "      <td>薛均晓</td>\n",
       "    </tr>\n",
       "    <tr>\n",
       "      <th>...</th>\n",
       "      <td>...</td>\n",
       "      <td>...</td>\n",
       "      <td>...</td>\n",
       "      <td>...</td>\n",
       "      <td>...</td>\n",
       "      <td>...</td>\n",
       "      <td>...</td>\n",
       "    </tr>\n",
       "    <tr>\n",
       "      <th>4659</th>\n",
       "      <td>信息可视化设计</td>\n",
       "      <td>三等奖</td>\n",
       "      <td>2022062386</td>\n",
       "      <td>查研观岸——考研信息可视化平台</td>\n",
       "      <td>上海财经大学</td>\n",
       "      <td>张蓉,陆泽洁,薛惠文</td>\n",
       "      <td>刘桦</td>\n",
       "    </tr>\n",
       "    <tr>\n",
       "      <th>4660</th>\n",
       "      <td>信息可视化设计</td>\n",
       "      <td>三等奖</td>\n",
       "      <td>2022062407</td>\n",
       "      <td>校园数据可视化</td>\n",
       "      <td>上海师范大学天华学院</td>\n",
       "      <td>南平,郝嘉尉,谢思睿</td>\n",
       "      <td>时书剑,朱怀中</td>\n",
       "    </tr>\n",
       "    <tr>\n",
       "      <th>4661</th>\n",
       "      <td>信息可视化设计</td>\n",
       "      <td>三等奖</td>\n",
       "      <td>2022062461</td>\n",
       "      <td>海洋生态损害评估及数据可视化</td>\n",
       "      <td>上海对外经贸大学</td>\n",
       "      <td>莫茗柯,励诺,夏一凡</td>\n",
       "      <td>顾振宇,戴永辉</td>\n",
       "    </tr>\n",
       "    <tr>\n",
       "      <th>4662</th>\n",
       "      <td>信息可视化设计</td>\n",
       "      <td>三等奖</td>\n",
       "      <td>2022062468</td>\n",
       "      <td>疫情数据分析与基于神经网络的预测下的可视化</td>\n",
       "      <td>西南财经大学天府学院</td>\n",
       "      <td>王良成,房彬彬,麦林</td>\n",
       "      <td>龚轩涛,陈昌平</td>\n",
       "    </tr>\n",
       "    <tr>\n",
       "      <th>4663</th>\n",
       "      <td>信息可视化设计</td>\n",
       "      <td>三等奖</td>\n",
       "      <td>2022062479</td>\n",
       "      <td>睦邻战疫，“疫”心为人</td>\n",
       "      <td>上海师范大学天华学院</td>\n",
       "      <td>孙佳冲,郑俊杰,张浩楠</td>\n",
       "      <td>崔岩,丁龙</td>\n",
       "    </tr>\n",
       "  </tbody>\n",
       "</table>\n",
       "<p>4664 rows × 7 columns</p>\n",
       "</div>"
      ],
      "text/plain": [
       "         大类名称   奖项        作品编号                                     作品名称  \\\n",
       "0       大数据应用  二等奖  2022006286             基于公共匿名平台数据的高校大学生心理健康问题识别\\n系统   \n",
       "1       大数据应用  二等奖  2022009288                         基于SOA农业大数据管理服务平台   \n",
       "2       大数据应用  二等奖  2022009615                     基于对抗性迁移学习的药品不良反应监测研究   \n",
       "3       大数据应用  二等奖  2022009964                    大数据技术在新冠病毒基因组序列分析中的应用   \n",
       "4       大数据应用  二等奖  2022010069  数据解读新冠疫情与全球应对--基于因果机器学习的新\\n冠疫情与全球经济无偏分析   \n",
       "...       ...  ...         ...                                      ...   \n",
       "4659  信息可视化设计  三等奖  2022062386                          查研观岸——考研信息可视化平台   \n",
       "4660  信息可视化设计  三等奖  2022062407                                  校园数据可视化   \n",
       "4661  信息可视化设计  三等奖  2022062461                           海洋生态损害评估及数据可视化   \n",
       "4662  信息可视化设计  三等奖  2022062468                    疫情数据分析与基于神经网络的预测下的可视化   \n",
       "4663  信息可视化设计  三等奖  2022062479                              睦邻战疫，“疫”心为人   \n",
       "\n",
       "            参赛学校           作者     指导教师  \n",
       "0           南京大学  汪舒宽,章梦晨,申佳蕾   戴新宇,陈颖  \n",
       "1          石河子大学    杜蕾,李智轩,秦源   于宝华,陈凤  \n",
       "2         南京邮电大学  仲雨乐,陆豪杰,马诗雯       韩普  \n",
       "3           武汉学院    罗今灿,顾欣,郭迟  朱福喜,郑克松  \n",
       "4           郑州大学  肖志轩,李承毅,牛力贤      薛均晓  \n",
       "...          ...          ...      ...  \n",
       "4659      上海财经大学   张蓉,陆泽洁,薛惠文       刘桦  \n",
       "4660  上海师范大学天华学院   南平,郝嘉尉,谢思睿  时书剑,朱怀中  \n",
       "4661    上海对外经贸大学   莫茗柯,励诺,夏一凡  顾振宇,戴永辉  \n",
       "4662  西南财经大学天府学院   王良成,房彬彬,麦林  龚轩涛,陈昌平  \n",
       "4663  上海师范大学天华学院  孙佳冲,郑俊杰,张浩楠    崔岩,丁龙  \n",
       "\n",
       "[4664 rows x 7 columns]"
      ]
     },
     "execution_count": 3,
     "metadata": {},
     "output_type": "execute_result"
    }
   ],
   "source": [
    "import pdfplumber\n",
    "import pandas as pd\n",
    "\n",
    "# 读取PDF文件\n",
    "# 创建空列表存储所有表格数据\n",
    "all_tables = []\n",
    "\n",
    "with pdfplumber.open('data/2022计算机设计大赛国奖.pdf') as pdf:\n",
    "    # 遍历所有页面\n",
    "    for page in pdf.pages[3:]:  # Start from page 4 (index 3)\n",
    "        # 读取表格数据\n",
    "        tables = page.extract_tables()\n",
    "        # 将每个表格添加到列表中\n",
    "        for table in tables:\n",
    "            all_tables.extend(table)\n",
    "\n",
    "# 创建DataFrame，设置列名\n",
    "df = pd.DataFrame(all_tables[1:], columns=['大类名称', '奖项', '作品编号', '作品名称', '参赛学校', '作者', '指导教师'])\n",
    "\n",
    "# 保存为csv文件\n",
    "df.to_csv('data/2022计算机设计大赛国奖.csv', index=False)\n",
    "df"
   ]
  },
  {
   "cell_type": "code",
   "execution_count": 7,
   "metadata": {},
   "outputs": [],
   "source": [
    "def extract_table_from_pdf(pdf_path:str,start:int,end:int) -> pd.DataFrame:\n",
    "    \"\"\"\n",
    "    从PDF文件中提取表格数据，并返回一个DataFrame。\n",
    "    \"\"\"\n",
    "    import pdfplumber\n",
    "    import pandas as pd\n",
    "\n",
    "    # 读取PDF文件\n",
    "    # 创建空列表存储所有表格数据\n",
    "    all_tables = []\n",
    "\n",
    "    with pdfplumber.open(pdf_path) as pdf:\n",
    "        # 遍历所有页面\n",
    "        for page in pdf.pages[start:end]:  \n",
    "            # 读取表格数据\n",
    "            tables = page.extract_tables()\n",
    "            # 将每个表格添加到列表中\n",
    "            for table in tables:\n",
    "                all_tables.extend(table)\n",
    "\n",
    "    # 创建DataFrame，设置列名\n",
    "    df = pd.DataFrame(all_tables)\n",
    "    return df"
   ]
  },
  {
   "cell_type": "code",
   "execution_count": 8,
   "metadata": {},
   "outputs": [
    {
     "data": {
      "text/html": [
       "<div>\n",
       "<style scoped>\n",
       "    .dataframe tbody tr th:only-of-type {\n",
       "        vertical-align: middle;\n",
       "    }\n",
       "\n",
       "    .dataframe tbody tr th {\n",
       "        vertical-align: top;\n",
       "    }\n",
       "\n",
       "    .dataframe thead th {\n",
       "        text-align: right;\n",
       "    }\n",
       "</style>\n",
       "<table border=\"1\" class=\"dataframe\">\n",
       "  <thead>\n",
       "    <tr style=\"text-align: right;\">\n",
       "      <th></th>\n",
       "      <th>0</th>\n",
       "      <th>1</th>\n",
       "      <th>2</th>\n",
       "      <th>3</th>\n",
       "      <th>4</th>\n",
       "      <th>5</th>\n",
       "      <th>6</th>\n",
       "    </tr>\n",
       "  </thead>\n",
       "  <tbody>\n",
       "    <tr>\n",
       "      <th>0</th>\n",
       "      <td>大类名称</td>\n",
       "      <td>奖项</td>\n",
       "      <td>作品编号</td>\n",
       "      <td>作品名称</td>\n",
       "      <td>参赛学校</td>\n",
       "      <td>作者</td>\n",
       "      <td>指导教师</td>\n",
       "    </tr>\n",
       "    <tr>\n",
       "      <th>1</th>\n",
       "      <td>大数据应用</td>\n",
       "      <td>二等奖</td>\n",
       "      <td>2022032880</td>\n",
       "      <td>数据解读后疫情时代的全球应对与中国策略</td>\n",
       "      <td>华东师范大学</td>\n",
       "      <td>廖静,雷超晶,张智渊</td>\n",
       "      <td>刘垚</td>\n",
       "    </tr>\n",
       "    <tr>\n",
       "      <th>2</th>\n",
       "      <td>大数据应用</td>\n",
       "      <td>二等奖</td>\n",
       "      <td>2022032896</td>\n",
       "      <td>从大数据中解读疫情衍生风险</td>\n",
       "      <td>武汉理工大学</td>\n",
       "      <td>张羽桐,殷梦姿,黄梓悦</td>\n",
       "      <td>刘春</td>\n",
       "    </tr>\n",
       "  </tbody>\n",
       "</table>\n",
       "</div>"
      ],
      "text/plain": [
       "       0    1           2                    3       4            5     6\n",
       "0   大类名称   奖项        作品编号                 作品名称    参赛学校           作者  指导教师\n",
       "1  大数据应用  二等奖  2022032880  数据解读后疫情时代的全球应对与中国策略  华东师范大学   廖静,雷超晶,张智渊    刘垚\n",
       "2  大数据应用  二等奖  2022032896        从大数据中解读疫情衍生风险  武汉理工大学  张羽桐,殷梦姿,黄梓悦    刘春"
      ]
     },
     "execution_count": 8,
     "metadata": {},
     "output_type": "execute_result"
    }
   ],
   "source": [
    "test = extract_table_from_pdf('data/2022计算机设计大赛国奖.pdf',5,7)\n",
    "test.head(3)"
   ]
  },
  {
   "cell_type": "code",
   "execution_count": 2,
   "metadata": {},
   "outputs": [
    {
     "data": {
      "text/markdown": [
       "```python\n",
       "def extract_table_from_pdf(pdf_path: str, start: int, end: int) -> pd.DataFrame:\n",
       "    \"\"\"\n",
       "    从PDF文件中提取指定页码范围内的表格数据，并返回一个DataFrame。\n",
       "\n",
       "    参数:\n",
       "    pdf_path (str): PDF文件的路径。\n",
       "    start (int): 开始提取表格的页码（包含）。\n",
       "    end (int): 结束提取表格的页码（不包含）。\n",
       "\n",
       "    返回值:\n",
       "    pd.DataFrame: 包含提取表格数据的DataFrame。\n",
       "    \"\"\"\n",
       "    import pdfplumber\n",
       "    import pandas as pd\n",
       "\n",
       "    all_tables = []\n",
       "\n",
       "    with pdfplumber.open(pdf_path) as pdf:\n",
       "        for page in pdf.pages[start:end]:\n",
       "            tables = page.extract_tables()\n",
       "            all_tables.extend(tables)\n",
       "\n",
       "    df = pd.DataFrame(all_tables)\n",
       "    return df\n",
       "```\n",
       "\n",
       "### 优化说明\n",
       "1. **Docstring**: 重写了Docstring，明确了参数类型和返回值类型，并详细描述了函数的功能。\n",
       "2. **代码优化**: 代码结构保持不变，但通过明确的类型提示和详细的Docstring，增强了代码的可读性和可维护性。"
      ],
      "text/plain": [
       "<IPython.core.display.Markdown object>"
      ]
     },
     "execution_count": 2,
     "metadata": {},
     "output_type": "execute_result"
    }
   ],
   "source": [
    "import mytools\n",
    "mytools.render(mytools.refineFunction(mytools.extract_table_from_pdf))"
   ]
  },
  {
   "cell_type": "code",
   "execution_count": 6,
   "metadata": {},
   "outputs": [
    {
     "data": {
      "text/html": [
       "<div>\n",
       "<style scoped>\n",
       "    .dataframe tbody tr th:only-of-type {\n",
       "        vertical-align: middle;\n",
       "    }\n",
       "\n",
       "    .dataframe tbody tr th {\n",
       "        vertical-align: top;\n",
       "    }\n",
       "\n",
       "    .dataframe thead th {\n",
       "        text-align: right;\n",
       "    }\n",
       "</style>\n",
       "<table border=\"1\" class=\"dataframe\">\n",
       "  <thead>\n",
       "    <tr style=\"text-align: right;\">\n",
       "      <th></th>\n",
       "      <th>0</th>\n",
       "      <th>1</th>\n",
       "      <th>2</th>\n",
       "      <th>3</th>\n",
       "      <th>4</th>\n",
       "      <th>5</th>\n",
       "      <th>6</th>\n",
       "    </tr>\n",
       "  </thead>\n",
       "  <tbody>\n",
       "    <tr>\n",
       "      <th>0</th>\n",
       "      <td>大类名称</td>\n",
       "      <td>奖项</td>\n",
       "      <td>作品编号</td>\n",
       "      <td>作品名称</td>\n",
       "      <td>参赛学校</td>\n",
       "      <td>作者</td>\n",
       "      <td>指导教师</td>\n",
       "    </tr>\n",
       "    <tr>\n",
       "      <th>1</th>\n",
       "      <td>大数据应用</td>\n",
       "      <td>二等奖</td>\n",
       "      <td>2022032880</td>\n",
       "      <td>数据解读后疫情时代的全球应对与中国策略</td>\n",
       "      <td>华东师范大学</td>\n",
       "      <td>廖静,雷超晶,张智渊</td>\n",
       "      <td>刘垚</td>\n",
       "    </tr>\n",
       "    <tr>\n",
       "      <th>2</th>\n",
       "      <td>大数据应用</td>\n",
       "      <td>二等奖</td>\n",
       "      <td>2022032896</td>\n",
       "      <td>从大数据中解读疫情衍生风险</td>\n",
       "      <td>武汉理工大学</td>\n",
       "      <td>张羽桐,殷梦姿,黄梓悦</td>\n",
       "      <td>刘春</td>\n",
       "    </tr>\n",
       "  </tbody>\n",
       "</table>\n",
       "</div>"
      ],
      "text/plain": [
       "       0    1           2                    3       4            5     6\n",
       "0   大类名称   奖项        作品编号                 作品名称    参赛学校           作者  指导教师\n",
       "1  大数据应用  二等奖  2022032880  数据解读后疫情时代的全球应对与中国策略  华东师范大学   廖静,雷超晶,张智渊    刘垚\n",
       "2  大数据应用  二等奖  2022032896        从大数据中解读疫情衍生风险  武汉理工大学  张羽桐,殷梦姿,黄梓悦    刘春"
      ]
     },
     "execution_count": 6,
     "metadata": {},
     "output_type": "execute_result"
    }
   ],
   "source": [
    "import mytools\n",
    "df_competition = mytools.extract_table_from_pdf('data/2022计算机设计大赛国奖.pdf',5,6)\n",
    "df_competition.head(3)"
   ]
  },
  {
   "cell_type": "code",
   "execution_count": 3,
   "metadata": {},
   "outputs": [],
   "source": [
    "df_competition.to_csv('data/2022计算机设计大赛国奖.csv',index=False,header=False)"
   ]
  },
  {
   "cell_type": "code",
   "execution_count": 5,
   "metadata": {},
   "outputs": [
    {
     "name": "stdout",
     "output_type": "stream",
     "text": [
      "数据清理完成，已保存到: data/2022计算机设计大赛国奖_cleaned.csv\n"
     ]
    }
   ],
   "source": [
    "import pandas as pd\n",
    "\n",
    "# 读取CSV文件\n",
    "file_path = 'data/2022计算机设计大赛国奖.csv'  # 替换为你的文件路径\n",
    "df = pd.read_csv(file_path, encoding='utf-8')\n",
    "\n",
    "# 获取列名\n",
    "column_names = df.columns.tolist()\n",
    "\n",
    "# 删除与列名一致的行\n",
    "df_cleaned = df[~df.apply(lambda row: (row == column_names).all(), axis=1)]\n",
    "\n",
    "# 保存清理后的数据到新的CSV文件\n",
    "output_file_path = 'data/2022计算机设计大赛国奖_cleaned.csv'  # 替换为你想要保存的文件路径\n",
    "df_cleaned.to_csv(output_file_path, index=False, encoding='utf-8')\n",
    "\n",
    "print(\"数据清理完成，已保存到:\", output_file_path)"
   ]
  },
  {
   "cell_type": "code",
   "execution_count": 6,
   "metadata": {},
   "outputs": [],
   "source": [
    "df_competition = pd.read_csv('data/2022计算机设计大赛国奖_cleaned.csv')"
   ]
  },
  {
   "cell_type": "code",
   "execution_count": 7,
   "metadata": {},
   "outputs": [],
   "source": [
    "def get_uni_cat(大学名称 = '南京大学'):\n",
    "\n",
    "    提示词 = f'''\n",
    "    请扮演中国大学教育专家，为我提供如下信息：\n",
    "\n",
    "    {大学名称}是哪一类学校（985、211、双一流、双非、民办）：\n",
    "\n",
    "    请根据这个学校的实际情况，返回类别，不要给出任何多余的信息，我要用你的返回值进行数据分类。\n",
    "    如果一个学校是985，也是211，请返回985\n",
    "    如果一个学校是985或211，也是双一流，请返回985或211\n",
    "    '''\n",
    "\n",
    "    return mytools.dsllm(提示词)"
   ]
  },
  {
   "cell_type": "code",
   "execution_count": 8,
   "metadata": {},
   "outputs": [
    {
     "data": {
      "text/plain": [
       "'985'"
      ]
     },
     "execution_count": 8,
     "metadata": {},
     "output_type": "execute_result"
    }
   ],
   "source": [
    "import mytools\n",
    "get_uni_cat('兰州大学')"
   ]
  },
  {
   "cell_type": "code",
   "execution_count": 9,
   "metadata": {},
   "outputs": [],
   "source": [
    "df_competition['学校类别'] = df_competition.参赛学校.apply(get_uni_cat)"
   ]
  },
  {
   "cell_type": "code",
   "execution_count": null,
   "metadata": {},
   "outputs": [],
   "source": [
    "# 保存csv"
   ]
  },
  {
   "cell_type": "code",
   "execution_count": 2,
   "metadata": {},
   "outputs": [],
   "source": [
    "import mytools\n",
    "import pandas as pd"
   ]
  },
  {
   "cell_type": "code",
   "execution_count": 3,
   "metadata": {},
   "outputs": [],
   "source": [
    "df = pd.read_csv('data/2022计算机设计大赛国奖清理后-增加变量.csv')"
   ]
  },
  {
   "cell_type": "code",
   "execution_count": 4,
   "metadata": {},
   "outputs": [
    {
     "data": {
      "text/plain": [
       "0.01467684741193168"
      ]
     },
     "execution_count": 4,
     "metadata": {},
     "output_type": "execute_result"
    }
   ],
   "source": [
    "tau_y = mytools.goodmanKruska_tau_y(df,'学校类别','奖项')\n",
    "tau_y"
   ]
  },
  {
   "cell_type": "code",
   "execution_count": 5,
   "metadata": {},
   "outputs": [
    {
     "data": {
      "text/plain": [
       "'极弱相关或无相关'"
      ]
     },
     "execution_count": 5,
     "metadata": {},
     "output_type": "execute_result"
    }
   ],
   "source": [
    "mytools.相关系数强弱判断(tau_y)"
   ]
  },
  {
   "cell_type": "code",
   "execution_count": 6,
   "metadata": {},
   "outputs": [
    {
     "data": {
      "text/html": [
       "<div>\n",
       "<style scoped>\n",
       "    .dataframe tbody tr th:only-of-type {\n",
       "        vertical-align: middle;\n",
       "    }\n",
       "\n",
       "    .dataframe tbody tr th {\n",
       "        vertical-align: top;\n",
       "    }\n",
       "\n",
       "    .dataframe thead th {\n",
       "        text-align: right;\n",
       "    }\n",
       "</style>\n",
       "<table border=\"1\" class=\"dataframe\">\n",
       "  <thead>\n",
       "    <tr style=\"text-align: right;\">\n",
       "      <th>奖项</th>\n",
       "      <th>一等奖</th>\n",
       "      <th>三等奖</th>\n",
       "      <th>二等奖</th>\n",
       "      <th>All</th>\n",
       "    </tr>\n",
       "    <tr>\n",
       "      <th>学校类别</th>\n",
       "      <th></th>\n",
       "      <th></th>\n",
       "      <th></th>\n",
       "      <th></th>\n",
       "    </tr>\n",
       "  </thead>\n",
       "  <tbody>\n",
       "    <tr>\n",
       "      <th>211</th>\n",
       "      <td>0.146341</td>\n",
       "      <td>0.180645</td>\n",
       "      <td>0.201413</td>\n",
       "      <td>0.187697</td>\n",
       "    </tr>\n",
       "    <tr>\n",
       "      <th>985</th>\n",
       "      <td>0.195122</td>\n",
       "      <td>0.070968</td>\n",
       "      <td>0.120141</td>\n",
       "      <td>0.100946</td>\n",
       "    </tr>\n",
       "    <tr>\n",
       "      <th>双一流</th>\n",
       "      <td>0.146341</td>\n",
       "      <td>0.041935</td>\n",
       "      <td>0.067138</td>\n",
       "      <td>0.059937</td>\n",
       "    </tr>\n",
       "    <tr>\n",
       "      <th>双非</th>\n",
       "      <td>0.487805</td>\n",
       "      <td>0.664516</td>\n",
       "      <td>0.590106</td>\n",
       "      <td>0.619874</td>\n",
       "    </tr>\n",
       "    <tr>\n",
       "      <th>民办</th>\n",
       "      <td>0.024390</td>\n",
       "      <td>0.041935</td>\n",
       "      <td>0.021201</td>\n",
       "      <td>0.031546</td>\n",
       "    </tr>\n",
       "  </tbody>\n",
       "</table>\n",
       "</div>"
      ],
      "text/plain": [
       "奖项         一等奖       三等奖       二等奖       All\n",
       "学校类别                                        \n",
       "211   0.146341  0.180645  0.201413  0.187697\n",
       "985   0.195122  0.070968  0.120141  0.100946\n",
       "双一流   0.146341  0.041935  0.067138  0.059937\n",
       "双非    0.487805  0.664516  0.590106  0.619874\n",
       "民办    0.024390  0.041935  0.021201  0.031546"
      ]
     },
     "execution_count": 6,
     "metadata": {},
     "output_type": "execute_result"
    }
   ],
   "source": [
    "mytools.制作交叉表(df,'学校类别','奖项')"
   ]
  }
 ],
 "metadata": {
  "kernelspec": {
   "display_name": "Python 3",
   "language": "python",
   "name": "python3"
  },
  "language_info": {
   "codemirror_mode": {
    "name": "ipython",
    "version": 3
   },
   "file_extension": ".py",
   "mimetype": "text/x-python",
   "name": "python",
   "nbconvert_exporter": "python",
   "pygments_lexer": "ipython3",
   "version": "3.8.10"
  }
 },
 "nbformat": 4,
 "nbformat_minor": 2
}
