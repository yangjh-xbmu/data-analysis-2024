{
 "cells": [
  {
   "cell_type": "code",
   "execution_count": 1,
   "metadata": {},
   "outputs": [],
   "source": [
    "import llm"
   ]
  },
  {
   "cell_type": "code",
   "execution_count": 3,
   "metadata": {},
   "outputs": [
    {
     "data": {
      "text/plain": [
       "'西北民族大学的广告学专业确实具有一定的实力和特色。以下是对该专业的详细分析：\\n\\n1. **专业历史与背景**：\\n   - 西北民族大学是中华人民共和国成立后创建的第一所民族高等学校，隶属于国家民族事务委员会。学校肇始于1949年9月，经过多次更名和发展，于2003年4月更名为西北民族大学。\\n   - 学校地处兰州市，建有两个校区，校园总面积广阔，为学生提供了良好的学习环境。\\n\\n2. **培养目标与课程设置**：\\n   - 广告学专业主要培养具备广告学理论与技能、宽广的文化与科学知识，能在新闻媒介、广告部门、广告公司、市场调查及信息咨询行业以及企事业单位从事广告策划创意和设计制作的广告学应用型人才。\\n   - 该专业的主要课程包括传播学、营销学、广告学概论、社会学概论、市场调查与统计、新媒体广告、广告策划与设计、广告效果、影视广告、广告文案、广告摄影、广告史、广告法规等。这些课程涵盖了广告学的各个方面，为学生提供了全面的知识和技能训练。\\n\\n3. **就业前景与方向**：\\n   - 广告学专业的毕业生能够在媒介广告部门、广告公司、市场咨询机构、政府部门、企事业单位和文化创意产业部门及其他相关机构，从事广告及传播运营、策划、创意、制作、营销、市场研究等方面的工作。这表明该专业的就业方向广泛，且与市场需求紧密相关。\\n   - 随着数字媒体和新媒体的发展，广告行业正经历着深刻变革。因此，掌握新媒体广告的知识和技能对于广告学专业的学生来说尤为重要。\\n\\n综上所述，西北民族大学的广告学专业在培养目标、课程设置、师资力量和就业前景等方面都表现出了一定的实力和特色。然而，具体是否“厉害”还需根据个人的兴趣、职业规划和市场需求等因素进行综合评估。'"
      ]
     },
     "execution_count": 3,
     "metadata": {},
     "output_type": "execute_result"
    }
   ],
   "source": [
    "llm.xfllm('听说西北民族大学广告学很厉害')"
   ]
  }
 ],
 "metadata": {
  "kernelspec": {
   "display_name": "Python 3",
   "language": "python",
   "name": "python3"
  },
  "language_info": {
   "codemirror_mode": {
    "name": "ipython",
    "version": 3
   },
   "file_extension": ".py",
   "mimetype": "text/x-python",
   "name": "python",
   "nbconvert_exporter": "python",
   "pygments_lexer": "ipython3",
   "version": "3.8.10"
  },
  "orig_nbformat": 4
 },
 "nbformat": 4,
 "nbformat_minor": 2
}
