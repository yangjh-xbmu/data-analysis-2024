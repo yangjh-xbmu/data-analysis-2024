{
 "cells": [
  {
   "cell_type": "markdown",
   "metadata": {},
   "source": [
    "![01_table_dataframe](https://pandas.pydata.org/docs/_images/01_table_dataframe.svg)\n"
   ]
  },
  {
   "cell_type": "code",
   "execution_count": 2,
   "metadata": {},
   "outputs": [
    {
     "name": "stdout",
     "output_type": "stream",
     "text": [
      "Series:\n",
      "0    1.0\n",
      "1    3.0\n",
      "2    5.0\n",
      "3    NaN\n",
      "4    6.0\n",
      "5    8.0\n",
      "dtype: float64\n",
      "\n",
      "DataFrame:\n",
      "          A      B  C          D   E\n",
      "0 -1.497990    one  a 2023-01-01  59\n",
      "1 -0.720751    two  b 2023-01-02   6\n",
      "2 -1.409876  three  c 2023-01-03  27\n",
      "3  0.035614   four  a 2023-01-04  28\n",
      "4 -0.205097   five  b 2023-01-05  89\n",
      "5  0.298994    six  c 2023-01-06  45\n"
     ]
    }
   ],
   "source": [
    "import pandas as pd\n",
    "import numpy as np\n",
    "\n",
    "# Create a Series\n",
    "s = pd.Series([1, 3, 5, np.nan, 6, 8])\n",
    "print(\"Series:\")\n",
    "print(s)\n",
    "print()\n",
    "\n",
    "# Create a DataFrame with different data types\n",
    "dates = pd.date_range('20230101', periods=6)\n",
    "df = pd.DataFrame({\n",
    "    'A': np.random.randn(6),  # Random floats\n",
    "    'B': ['one', 'two', 'three', 'four', 'five', 'six'],  # Strings\n",
    "    'C': pd.Categorical(['a','b','c','a','b','c']),  # Categories\n",
    "    'D': pd.date_range('20230101', periods=6),  # Dates\n",
    "    'E': np.random.randint(0, 100, 6)  # Random integers\n",
    "})\n",
    "\n",
    "print(\"DataFrame:\")\n",
    "print(df)\n"
   ]
  },
  {
   "cell_type": "markdown",
   "metadata": {},
   "source": [
    "![02_io_readwrite](https://pandas.pydata.org/docs/_images/02_io_readwrite.svg)\n"
   ]
  },
  {
   "cell_type": "code",
   "execution_count": 4,
   "metadata": {},
   "outputs": [
    {
     "name": "stdout",
     "output_type": "stream",
     "text": [
      "         day  STOCK_CODE   open  close  maximum  minimum  volume    TURNOVER\n",
      "0  2001/8/27     6005191  34.51  35.55    37.78    32.85  406318  1410347008\n",
      "1  2001/8/28     6005191  34.99  36.86    37.00    34.61  129647   463463008\n",
      "2  2001/8/28     6005191  34.99  36.86    37.00    34.61  129647   463463008\n",
      "前三行数据已保存到 output/test.csv\n"
     ]
    }
   ],
   "source": [
    "import pandas as pd\n",
    "\n",
    "# 读取CSV文件\n",
    "file_path = 'data/600519.csv'\n",
    "df = pd.read_csv(file_path)\n",
    "\n",
    "# 显示前三行\n",
    "print(df.head(3))\n",
    "\n",
    "# 保存前三行到output/test.csv\n",
    "output_path = 'output/test.csv'\n",
    "df.head(3).to_csv(output_path, index=False)\n",
    "\n",
    "print(f\"前三行数据已保存到 {output_path}\")"
   ]
  },
  {
   "cell_type": "code",
   "execution_count": 5,
   "metadata": {},
   "outputs": [
    {
     "name": "stdout",
     "output_type": "stream",
     "text": [
      "   性别     年龄  生活压力  社会支持  身心倦怠\n",
      "0  男生  25岁以下  15.0  40.0  18.0\n",
      "1  男生  25岁以下  20.0  32.0  22.0\n",
      "2  男生  25岁以下  24.0  42.0  20.0\n",
      "数据已保存到 output/test.xlsx\n"
     ]
    }
   ],
   "source": [
    "# 读取SPSS文件\n",
    "df_spss = pd.read_spss('data/t-test.sav')\n",
    "\n",
    "# 显示前三行\n",
    "print(df_spss.head(3))\n",
    "\n",
    "# 保存到Excel文件\n",
    "df_spss.to_excel('output/test.xlsx', index=False)\n"
   ]
  },
  {
   "cell_type": "markdown",
   "metadata": {},
   "source": [
    "![03_subset_columns](https://pandas.pydata.org/docs/_images/03_subset_columns.svg)\n"
   ]
  },
  {
   "cell_type": "code",
   "execution_count": 9,
   "metadata": {},
   "outputs": [
    {
     "data": {
      "text/html": [
       "<div>\n",
       "<style scoped>\n",
       "    .dataframe tbody tr th:only-of-type {\n",
       "        vertical-align: middle;\n",
       "    }\n",
       "\n",
       "    .dataframe tbody tr th {\n",
       "        vertical-align: top;\n",
       "    }\n",
       "\n",
       "    .dataframe thead th {\n",
       "        text-align: right;\n",
       "    }\n",
       "</style>\n",
       "<table border=\"1\" class=\"dataframe\">\n",
       "  <thead>\n",
       "    <tr style=\"text-align: right;\">\n",
       "      <th></th>\n",
       "      <th>day</th>\n",
       "      <th>STOCK_CODE</th>\n",
       "      <th>open</th>\n",
       "      <th>close</th>\n",
       "      <th>maximum</th>\n",
       "      <th>minimum</th>\n",
       "      <th>volume</th>\n",
       "      <th>TURNOVER</th>\n",
       "    </tr>\n",
       "  </thead>\n",
       "  <tbody>\n",
       "    <tr>\n",
       "      <th>860</th>\n",
       "      <td>2005/4/6</td>\n",
       "      <td>6005191</td>\n",
       "      <td>50.17</td>\n",
       "      <td>51.16</td>\n",
       "      <td>51.29</td>\n",
       "      <td>49.59</td>\n",
       "      <td>5675</td>\n",
       "      <td>28795816</td>\n",
       "    </tr>\n",
       "    <tr>\n",
       "      <th>861</th>\n",
       "      <td>2005/4/7</td>\n",
       "      <td>6005191</td>\n",
       "      <td>51.20</td>\n",
       "      <td>50.08</td>\n",
       "      <td>52.49</td>\n",
       "      <td>50.00</td>\n",
       "      <td>12438</td>\n",
       "      <td>64340829</td>\n",
       "    </tr>\n",
       "    <tr>\n",
       "      <th>873</th>\n",
       "      <td>2005/4/25</td>\n",
       "      <td>6005191</td>\n",
       "      <td>49.10</td>\n",
       "      <td>52.00</td>\n",
       "      <td>52.50</td>\n",
       "      <td>48.61</td>\n",
       "      <td>12704</td>\n",
       "      <td>65092003</td>\n",
       "    </tr>\n",
       "    <tr>\n",
       "      <th>874</th>\n",
       "      <td>2005/4/26</td>\n",
       "      <td>6005191</td>\n",
       "      <td>51.99</td>\n",
       "      <td>52.27</td>\n",
       "      <td>53.53</td>\n",
       "      <td>51.80</td>\n",
       "      <td>13609</td>\n",
       "      <td>71600714</td>\n",
       "    </tr>\n",
       "    <tr>\n",
       "      <th>875</th>\n",
       "      <td>2005/4/27</td>\n",
       "      <td>6005191</td>\n",
       "      <td>51.88</td>\n",
       "      <td>52.82</td>\n",
       "      <td>53.12</td>\n",
       "      <td>51.81</td>\n",
       "      <td>7473</td>\n",
       "      <td>39437614</td>\n",
       "    </tr>\n",
       "    <tr>\n",
       "      <th>876</th>\n",
       "      <td>2005/4/28</td>\n",
       "      <td>6005191</td>\n",
       "      <td>52.82</td>\n",
       "      <td>53.00</td>\n",
       "      <td>53.50</td>\n",
       "      <td>52.23</td>\n",
       "      <td>8521</td>\n",
       "      <td>45118705</td>\n",
       "    </tr>\n",
       "    <tr>\n",
       "      <th>877</th>\n",
       "      <td>2005/4/29</td>\n",
       "      <td>6005191</td>\n",
       "      <td>52.30</td>\n",
       "      <td>53.00</td>\n",
       "      <td>53.15</td>\n",
       "      <td>52.01</td>\n",
       "      <td>6825</td>\n",
       "      <td>35950860</td>\n",
       "    </tr>\n",
       "    <tr>\n",
       "      <th>878</th>\n",
       "      <td>2005/5/9</td>\n",
       "      <td>6005191</td>\n",
       "      <td>52.50</td>\n",
       "      <td>51.52</td>\n",
       "      <td>52.95</td>\n",
       "      <td>51.31</td>\n",
       "      <td>7656</td>\n",
       "      <td>39655697</td>\n",
       "    </tr>\n",
       "    <tr>\n",
       "      <th>879</th>\n",
       "      <td>2005/5/10</td>\n",
       "      <td>6005191</td>\n",
       "      <td>51.00</td>\n",
       "      <td>50.66</td>\n",
       "      <td>51.30</td>\n",
       "      <td>49.80</td>\n",
       "      <td>6447</td>\n",
       "      <td>32384041</td>\n",
       "    </tr>\n",
       "    <tr>\n",
       "      <th>908</th>\n",
       "      <td>2005/6/20</td>\n",
       "      <td>6005191</td>\n",
       "      <td>49.00</td>\n",
       "      <td>51.80</td>\n",
       "      <td>53.10</td>\n",
       "      <td>48.50</td>\n",
       "      <td>12369</td>\n",
       "      <td>62906075</td>\n",
       "    </tr>\n",
       "  </tbody>\n",
       "</table>\n",
       "</div>"
      ],
      "text/plain": [
       "           day  STOCK_CODE   open  close  maximum  minimum  volume  TURNOVER\n",
       "860   2005/4/6     6005191  50.17  51.16    51.29    49.59    5675  28795816\n",
       "861   2005/4/7     6005191  51.20  50.08    52.49    50.00   12438  64340829\n",
       "873  2005/4/25     6005191  49.10  52.00    52.50    48.61   12704  65092003\n",
       "874  2005/4/26     6005191  51.99  52.27    53.53    51.80   13609  71600714\n",
       "875  2005/4/27     6005191  51.88  52.82    53.12    51.81    7473  39437614\n",
       "876  2005/4/28     6005191  52.82  53.00    53.50    52.23    8521  45118705\n",
       "877  2005/4/29     6005191  52.30  53.00    53.15    52.01    6825  35950860\n",
       "878   2005/5/9     6005191  52.50  51.52    52.95    51.31    7656  39655697\n",
       "879  2005/5/10     6005191  51.00  50.66    51.30    49.80    6447  32384041\n",
       "908  2005/6/20     6005191  49.00  51.80    53.10    48.50   12369  62906075"
      ]
     },
     "execution_count": 9,
     "metadata": {},
     "output_type": "execute_result"
    }
   ],
   "source": [
    "# 读取CSV文件\n",
    "df = pd.read_csv('data/600519.csv')\n",
    "\n",
    "# 使用query筛选close值在50-100之间的数据,并显示前5行\n",
    "filtered_df = df.query('close > 50 and close < 100').head(10)\n",
    "filtered_df\n"
   ]
  },
  {
   "cell_type": "markdown",
   "metadata": {},
   "source": [
    "![04_plot_overview](https://pandas.pydata.org/docs/_images/04_plot_overview.svg)\n"
   ]
  },
  {
   "cell_type": "code",
   "execution_count": 11,
   "metadata": {},
   "outputs": [
    {
     "data": {
      "application/vnd.plotly.v1+json": {
       "config": {
        "plotlyServerURL": "https://plot.ly"
       },
       "data": [
        {
         "alignmentgroup": "True",
         "hovertemplate": "Date=%{x}<br>Close Price=%{y}<extra></extra>",
         "legendgroup": "",
         "marker": {
          "color": "#636efa",
          "pattern": {
           "shape": ""
          }
         },
         "name": "",
         "offsetgroup": "",
         "orientation": "v",
         "showlegend": false,
         "textposition": "auto",
         "type": "bar",
         "x": [
          "2001/8/27",
          "2001/8/28",
          "2001/8/28",
          "2001/8/29",
          "2001/8/30",
          "2001/8/31",
          "2001/9/3",
          "2001/9/4",
          "2001/9/5",
          "2001/9/6",
          "2001/9/7",
          "2001/9/10",
          "2001/9/11",
          "2001/9/12",
          "2001/9/13",
          "2001/9/14",
          "2001/9/17",
          "2001/9/18",
          "2001/9/19",
          "2001/9/20",
          "2001/9/21",
          "2001/9/24",
          "2001/9/25",
          "2001/9/26",
          "2001/9/27",
          "2001/9/28",
          "2001/10/8",
          "2001/10/9",
          "2001/10/10",
          "2001/10/11",
          "2001/10/12",
          "2001/10/15",
          "2001/10/16",
          "2001/10/17",
          "2001/10/18",
          "2001/10/19",
          "2001/10/22",
          "2001/10/23",
          "2001/10/24",
          "2001/10/25",
          "2001/10/26",
          "2001/10/29",
          "2001/10/30",
          "2001/10/31",
          "2001/11/1",
          "2001/11/2",
          "2001/11/5",
          "2001/11/6",
          "2001/11/7",
          "2001/11/8"
         ],
         "xaxis": "x",
         "y": [
          35.55,
          36.86,
          36.86,
          36.38,
          37.1,
          37.01,
          36.99,
          37.46,
          37.44,
          36.7,
          35.68,
          36.7,
          36.29,
          35.98,
          35.89,
          36.3,
          35.84,
          36.25,
          36.92,
          36.61,
          36.06,
          36.05,
          36.23,
          36.08,
          36.7,
          37.09,
          36.58,
          37.3,
          36.1,
          35.75,
          36,
          35.3,
          34.8,
          34.2,
          34.04,
          33.5,
          32.79,
          36.07,
          35.86,
          34.88,
          35,
          35.3,
          35,
          35.05,
          35.57,
          35.36,
          34.9,
          35.15,
          33.85,
          33.7
         ],
         "yaxis": "y"
        }
       ],
       "layout": {
        "barmode": "relative",
        "legend": {
         "tracegroupgap": 0
        },
        "template": {
         "data": {
          "bar": [
           {
            "error_x": {
             "color": "#2a3f5f"
            },
            "error_y": {
             "color": "#2a3f5f"
            },
            "marker": {
             "line": {
              "color": "#E5ECF6",
              "width": 0.5
             },
             "pattern": {
              "fillmode": "overlay",
              "size": 10,
              "solidity": 0.2
             }
            },
            "type": "bar"
           }
          ],
          "barpolar": [
           {
            "marker": {
             "line": {
              "color": "#E5ECF6",
              "width": 0.5
             },
             "pattern": {
              "fillmode": "overlay",
              "size": 10,
              "solidity": 0.2
             }
            },
            "type": "barpolar"
           }
          ],
          "carpet": [
           {
            "aaxis": {
             "endlinecolor": "#2a3f5f",
             "gridcolor": "white",
             "linecolor": "white",
             "minorgridcolor": "white",
             "startlinecolor": "#2a3f5f"
            },
            "baxis": {
             "endlinecolor": "#2a3f5f",
             "gridcolor": "white",
             "linecolor": "white",
             "minorgridcolor": "white",
             "startlinecolor": "#2a3f5f"
            },
            "type": "carpet"
           }
          ],
          "choropleth": [
           {
            "colorbar": {
             "outlinewidth": 0,
             "ticks": ""
            },
            "type": "choropleth"
           }
          ],
          "contour": [
           {
            "colorbar": {
             "outlinewidth": 0,
             "ticks": ""
            },
            "colorscale": [
             [
              0,
              "#0d0887"
             ],
             [
              0.1111111111111111,
              "#46039f"
             ],
             [
              0.2222222222222222,
              "#7201a8"
             ],
             [
              0.3333333333333333,
              "#9c179e"
             ],
             [
              0.4444444444444444,
              "#bd3786"
             ],
             [
              0.5555555555555556,
              "#d8576b"
             ],
             [
              0.6666666666666666,
              "#ed7953"
             ],
             [
              0.7777777777777778,
              "#fb9f3a"
             ],
             [
              0.8888888888888888,
              "#fdca26"
             ],
             [
              1,
              "#f0f921"
             ]
            ],
            "type": "contour"
           }
          ],
          "contourcarpet": [
           {
            "colorbar": {
             "outlinewidth": 0,
             "ticks": ""
            },
            "type": "contourcarpet"
           }
          ],
          "heatmap": [
           {
            "colorbar": {
             "outlinewidth": 0,
             "ticks": ""
            },
            "colorscale": [
             [
              0,
              "#0d0887"
             ],
             [
              0.1111111111111111,
              "#46039f"
             ],
             [
              0.2222222222222222,
              "#7201a8"
             ],
             [
              0.3333333333333333,
              "#9c179e"
             ],
             [
              0.4444444444444444,
              "#bd3786"
             ],
             [
              0.5555555555555556,
              "#d8576b"
             ],
             [
              0.6666666666666666,
              "#ed7953"
             ],
             [
              0.7777777777777778,
              "#fb9f3a"
             ],
             [
              0.8888888888888888,
              "#fdca26"
             ],
             [
              1,
              "#f0f921"
             ]
            ],
            "type": "heatmap"
           }
          ],
          "heatmapgl": [
           {
            "colorbar": {
             "outlinewidth": 0,
             "ticks": ""
            },
            "colorscale": [
             [
              0,
              "#0d0887"
             ],
             [
              0.1111111111111111,
              "#46039f"
             ],
             [
              0.2222222222222222,
              "#7201a8"
             ],
             [
              0.3333333333333333,
              "#9c179e"
             ],
             [
              0.4444444444444444,
              "#bd3786"
             ],
             [
              0.5555555555555556,
              "#d8576b"
             ],
             [
              0.6666666666666666,
              "#ed7953"
             ],
             [
              0.7777777777777778,
              "#fb9f3a"
             ],
             [
              0.8888888888888888,
              "#fdca26"
             ],
             [
              1,
              "#f0f921"
             ]
            ],
            "type": "heatmapgl"
           }
          ],
          "histogram": [
           {
            "marker": {
             "pattern": {
              "fillmode": "overlay",
              "size": 10,
              "solidity": 0.2
             }
            },
            "type": "histogram"
           }
          ],
          "histogram2d": [
           {
            "colorbar": {
             "outlinewidth": 0,
             "ticks": ""
            },
            "colorscale": [
             [
              0,
              "#0d0887"
             ],
             [
              0.1111111111111111,
              "#46039f"
             ],
             [
              0.2222222222222222,
              "#7201a8"
             ],
             [
              0.3333333333333333,
              "#9c179e"
             ],
             [
              0.4444444444444444,
              "#bd3786"
             ],
             [
              0.5555555555555556,
              "#d8576b"
             ],
             [
              0.6666666666666666,
              "#ed7953"
             ],
             [
              0.7777777777777778,
              "#fb9f3a"
             ],
             [
              0.8888888888888888,
              "#fdca26"
             ],
             [
              1,
              "#f0f921"
             ]
            ],
            "type": "histogram2d"
           }
          ],
          "histogram2dcontour": [
           {
            "colorbar": {
             "outlinewidth": 0,
             "ticks": ""
            },
            "colorscale": [
             [
              0,
              "#0d0887"
             ],
             [
              0.1111111111111111,
              "#46039f"
             ],
             [
              0.2222222222222222,
              "#7201a8"
             ],
             [
              0.3333333333333333,
              "#9c179e"
             ],
             [
              0.4444444444444444,
              "#bd3786"
             ],
             [
              0.5555555555555556,
              "#d8576b"
             ],
             [
              0.6666666666666666,
              "#ed7953"
             ],
             [
              0.7777777777777778,
              "#fb9f3a"
             ],
             [
              0.8888888888888888,
              "#fdca26"
             ],
             [
              1,
              "#f0f921"
             ]
            ],
            "type": "histogram2dcontour"
           }
          ],
          "mesh3d": [
           {
            "colorbar": {
             "outlinewidth": 0,
             "ticks": ""
            },
            "type": "mesh3d"
           }
          ],
          "parcoords": [
           {
            "line": {
             "colorbar": {
              "outlinewidth": 0,
              "ticks": ""
             }
            },
            "type": "parcoords"
           }
          ],
          "pie": [
           {
            "automargin": true,
            "type": "pie"
           }
          ],
          "scatter": [
           {
            "fillpattern": {
             "fillmode": "overlay",
             "size": 10,
             "solidity": 0.2
            },
            "type": "scatter"
           }
          ],
          "scatter3d": [
           {
            "line": {
             "colorbar": {
              "outlinewidth": 0,
              "ticks": ""
             }
            },
            "marker": {
             "colorbar": {
              "outlinewidth": 0,
              "ticks": ""
             }
            },
            "type": "scatter3d"
           }
          ],
          "scattercarpet": [
           {
            "marker": {
             "colorbar": {
              "outlinewidth": 0,
              "ticks": ""
             }
            },
            "type": "scattercarpet"
           }
          ],
          "scattergeo": [
           {
            "marker": {
             "colorbar": {
              "outlinewidth": 0,
              "ticks": ""
             }
            },
            "type": "scattergeo"
           }
          ],
          "scattergl": [
           {
            "marker": {
             "colorbar": {
              "outlinewidth": 0,
              "ticks": ""
             }
            },
            "type": "scattergl"
           }
          ],
          "scattermapbox": [
           {
            "marker": {
             "colorbar": {
              "outlinewidth": 0,
              "ticks": ""
             }
            },
            "type": "scattermapbox"
           }
          ],
          "scatterpolar": [
           {
            "marker": {
             "colorbar": {
              "outlinewidth": 0,
              "ticks": ""
             }
            },
            "type": "scatterpolar"
           }
          ],
          "scatterpolargl": [
           {
            "marker": {
             "colorbar": {
              "outlinewidth": 0,
              "ticks": ""
             }
            },
            "type": "scatterpolargl"
           }
          ],
          "scatterternary": [
           {
            "marker": {
             "colorbar": {
              "outlinewidth": 0,
              "ticks": ""
             }
            },
            "type": "scatterternary"
           }
          ],
          "surface": [
           {
            "colorbar": {
             "outlinewidth": 0,
             "ticks": ""
            },
            "colorscale": [
             [
              0,
              "#0d0887"
             ],
             [
              0.1111111111111111,
              "#46039f"
             ],
             [
              0.2222222222222222,
              "#7201a8"
             ],
             [
              0.3333333333333333,
              "#9c179e"
             ],
             [
              0.4444444444444444,
              "#bd3786"
             ],
             [
              0.5555555555555556,
              "#d8576b"
             ],
             [
              0.6666666666666666,
              "#ed7953"
             ],
             [
              0.7777777777777778,
              "#fb9f3a"
             ],
             [
              0.8888888888888888,
              "#fdca26"
             ],
             [
              1,
              "#f0f921"
             ]
            ],
            "type": "surface"
           }
          ],
          "table": [
           {
            "cells": {
             "fill": {
              "color": "#EBF0F8"
             },
             "line": {
              "color": "white"
             }
            },
            "header": {
             "fill": {
              "color": "#C8D4E3"
             },
             "line": {
              "color": "white"
             }
            },
            "type": "table"
           }
          ]
         },
         "layout": {
          "annotationdefaults": {
           "arrowcolor": "#2a3f5f",
           "arrowhead": 0,
           "arrowwidth": 1
          },
          "autotypenumbers": "strict",
          "coloraxis": {
           "colorbar": {
            "outlinewidth": 0,
            "ticks": ""
           }
          },
          "colorscale": {
           "diverging": [
            [
             0,
             "#8e0152"
            ],
            [
             0.1,
             "#c51b7d"
            ],
            [
             0.2,
             "#de77ae"
            ],
            [
             0.3,
             "#f1b6da"
            ],
            [
             0.4,
             "#fde0ef"
            ],
            [
             0.5,
             "#f7f7f7"
            ],
            [
             0.6,
             "#e6f5d0"
            ],
            [
             0.7,
             "#b8e186"
            ],
            [
             0.8,
             "#7fbc41"
            ],
            [
             0.9,
             "#4d9221"
            ],
            [
             1,
             "#276419"
            ]
           ],
           "sequential": [
            [
             0,
             "#0d0887"
            ],
            [
             0.1111111111111111,
             "#46039f"
            ],
            [
             0.2222222222222222,
             "#7201a8"
            ],
            [
             0.3333333333333333,
             "#9c179e"
            ],
            [
             0.4444444444444444,
             "#bd3786"
            ],
            [
             0.5555555555555556,
             "#d8576b"
            ],
            [
             0.6666666666666666,
             "#ed7953"
            ],
            [
             0.7777777777777778,
             "#fb9f3a"
            ],
            [
             0.8888888888888888,
             "#fdca26"
            ],
            [
             1,
             "#f0f921"
            ]
           ],
           "sequentialminus": [
            [
             0,
             "#0d0887"
            ],
            [
             0.1111111111111111,
             "#46039f"
            ],
            [
             0.2222222222222222,
             "#7201a8"
            ],
            [
             0.3333333333333333,
             "#9c179e"
            ],
            [
             0.4444444444444444,
             "#bd3786"
            ],
            [
             0.5555555555555556,
             "#d8576b"
            ],
            [
             0.6666666666666666,
             "#ed7953"
            ],
            [
             0.7777777777777778,
             "#fb9f3a"
            ],
            [
             0.8888888888888888,
             "#fdca26"
            ],
            [
             1,
             "#f0f921"
            ]
           ]
          },
          "colorway": [
           "#636efa",
           "#EF553B",
           "#00cc96",
           "#ab63fa",
           "#FFA15A",
           "#19d3f3",
           "#FF6692",
           "#B6E880",
           "#FF97FF",
           "#FECB52"
          ],
          "font": {
           "color": "#2a3f5f"
          },
          "geo": {
           "bgcolor": "white",
           "lakecolor": "white",
           "landcolor": "#E5ECF6",
           "showlakes": true,
           "showland": true,
           "subunitcolor": "white"
          },
          "hoverlabel": {
           "align": "left"
          },
          "hovermode": "closest",
          "mapbox": {
           "style": "light"
          },
          "paper_bgcolor": "white",
          "plot_bgcolor": "#E5ECF6",
          "polar": {
           "angularaxis": {
            "gridcolor": "white",
            "linecolor": "white",
            "ticks": ""
           },
           "bgcolor": "#E5ECF6",
           "radialaxis": {
            "gridcolor": "white",
            "linecolor": "white",
            "ticks": ""
           }
          },
          "scene": {
           "xaxis": {
            "backgroundcolor": "#E5ECF6",
            "gridcolor": "white",
            "gridwidth": 2,
            "linecolor": "white",
            "showbackground": true,
            "ticks": "",
            "zerolinecolor": "white"
           },
           "yaxis": {
            "backgroundcolor": "#E5ECF6",
            "gridcolor": "white",
            "gridwidth": 2,
            "linecolor": "white",
            "showbackground": true,
            "ticks": "",
            "zerolinecolor": "white"
           },
           "zaxis": {
            "backgroundcolor": "#E5ECF6",
            "gridcolor": "white",
            "gridwidth": 2,
            "linecolor": "white",
            "showbackground": true,
            "ticks": "",
            "zerolinecolor": "white"
           }
          },
          "shapedefaults": {
           "line": {
            "color": "#2a3f5f"
           }
          },
          "ternary": {
           "aaxis": {
            "gridcolor": "white",
            "linecolor": "white",
            "ticks": ""
           },
           "baxis": {
            "gridcolor": "white",
            "linecolor": "white",
            "ticks": ""
           },
           "bgcolor": "#E5ECF6",
           "caxis": {
            "gridcolor": "white",
            "linecolor": "white",
            "ticks": ""
           }
          },
          "title": {
           "x": 0.05
          },
          "xaxis": {
           "automargin": true,
           "gridcolor": "white",
           "linecolor": "white",
           "ticks": "",
           "title": {
            "standoff": 15
           },
           "zerolinecolor": "white",
           "zerolinewidth": 2
          },
          "yaxis": {
           "automargin": true,
           "gridcolor": "white",
           "linecolor": "white",
           "ticks": "",
           "title": {
            "standoff": 15
           },
           "zerolinecolor": "white",
           "zerolinewidth": 2
          }
         }
        },
        "title": {
         "text": "Close Price for First 5 Days"
        },
        "xaxis": {
         "anchor": "y",
         "domain": [
          0,
          1
         ],
         "title": {
          "text": "Date"
         }
        },
        "yaxis": {
         "anchor": "x",
         "domain": [
          0,
          1
         ],
         "title": {
          "text": "Close Price"
         }
        }
       }
      }
     },
     "metadata": {},
     "output_type": "display_data"
    }
   ],
   "source": [
    "# 读取CSV文件\n",
    "df = pd.read_csv('data/600519.csv')\n",
    "\n",
    "# 获取前5行数据\n",
    "df_plot = df.head(50)\n",
    "\n",
    "# 使用plotly绘制柱状图\n",
    "import plotly.express as px\n",
    "\n",
    "fig = px.bar(df_plot, x='day', y='close', \n",
    "             title='Close Price for First 5 Days',\n",
    "             labels={'day': 'Date', 'close': 'Close Price'})\n",
    "\n",
    "fig.show()\n"
   ]
  }
 ],
 "metadata": {
  "kernelspec": {
   "display_name": "Python 3",
   "language": "python",
   "name": "python3"
  },
  "language_info": {
   "codemirror_mode": {
    "name": "ipython",
    "version": 3
   },
   "file_extension": ".py",
   "mimetype": "text/x-python",
   "name": "python",
   "nbconvert_exporter": "python",
   "pygments_lexer": "ipython3",
   "version": "3.8.10"
  }
 },
 "nbformat": 4,
 "nbformat_minor": 2
}
