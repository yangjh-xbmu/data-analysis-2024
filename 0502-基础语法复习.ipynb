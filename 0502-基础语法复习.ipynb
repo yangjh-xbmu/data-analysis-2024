{
 "cells": [
  {
   "cell_type": "code",
   "execution_count": 25,
   "metadata": {},
   "outputs": [
    {
     "data": {
      "text/plain": [
       "str"
      ]
     },
     "execution_count": 25,
     "metadata": {},
     "output_type": "execute_result"
    }
   ],
   "source": [
    "str1 = '星期五'\n",
    "type(str1)"
   ]
  },
  {
   "cell_type": "code",
   "execution_count": 26,
   "metadata": {},
   "outputs": [
    {
     "data": {
      "text/plain": [
       "float"
      ]
     },
     "execution_count": 26,
     "metadata": {},
     "output_type": "execute_result"
    }
   ],
   "source": [
    "age = 19.5\n",
    "type(age)"
   ]
  },
  {
   "cell_type": "code",
   "execution_count": 27,
   "metadata": {},
   "outputs": [
    {
     "data": {
      "text/plain": [
       "bool"
      ]
     },
     "execution_count": 27,
     "metadata": {},
     "output_type": "execute_result"
    }
   ],
   "source": [
    "con1 = False\n",
    "type(con1)"
   ]
  },
  {
   "cell_type": "markdown",
   "metadata": {},
   "source": [
    "元组是一种python中的基本数据类型，可使用`()`创建。特点是创建后变量不可变。"
   ]
  },
  {
   "cell_type": "code",
   "execution_count": 28,
   "metadata": {},
   "outputs": [
    {
     "data": {
      "text/plain": [
       "tuple"
      ]
     },
     "execution_count": 28,
     "metadata": {},
     "output_type": "execute_result"
    }
   ],
   "source": [
    "t1 = (1,2,3)\n",
    "type(t1)"
   ]
  },
  {
   "cell_type": "markdown",
   "metadata": {},
   "source": [
    "列表可使用`[]`创建，列表内容是可变的。"
   ]
  },
  {
   "cell_type": "code",
   "execution_count": 29,
   "metadata": {},
   "outputs": [
    {
     "data": {
      "text/plain": [
       "list"
      ]
     },
     "execution_count": 29,
     "metadata": {},
     "output_type": "execute_result"
    }
   ],
   "source": [
    "list1 = ['小明','小丽','小伟']\n",
    "type(list1)"
   ]
  },
  {
   "cell_type": "markdown",
   "metadata": {},
   "source": [
    "字典可使用`dict()、{}`创建"
   ]
  },
  {
   "cell_type": "code",
   "execution_count": 30,
   "metadata": {},
   "outputs": [
    {
     "data": {
      "text/plain": [
       "dict"
      ]
     },
     "execution_count": 30,
     "metadata": {},
     "output_type": "execute_result"
    }
   ],
   "source": [
    "d1 = dict(\n",
    "    age = 19,\n",
    "    major = '广告学'\n",
    ")\n",
    "type(d1)"
   ]
  },
  {
   "cell_type": "markdown",
   "metadata": {},
   "source": [
    "集合可使用`{}`创建，集合中的元素是唯一的。"
   ]
  },
  {
   "cell_type": "code",
   "execution_count": 31,
   "metadata": {},
   "outputs": [
    {
     "name": "stdout",
     "output_type": "stream",
     "text": [
      "{1, 2} <class 'set'>\n"
     ]
    }
   ],
   "source": [
    "set1 = {1,1,1,2}\n",
    "print(set1,type(set1))"
   ]
  },
  {
   "cell_type": "code",
   "execution_count": 32,
   "metadata": {},
   "outputs": [],
   "source": [
    "# 整数、小数、字符串、布尔、元组(1,3,4)、列表[1,2,3]\n",
    "# 字典{\"a\":0,\"b\":1}、集合{1,2,3}"
   ]
  },
  {
   "cell_type": "code",
   "execution_count": 33,
   "metadata": {},
   "outputs": [
    {
     "name": "stdout",
     "output_type": "stream",
     "text": [
      "哈啰走起！\n"
     ]
    }
   ],
   "source": [
    "# 流程控制，三种流程：顺序、跳转、循环\n",
    "# 可使用if else进行分支控制\n",
    "total = 99\n",
    "if total >= 100:\n",
    "    print('xiaomi su7！')\n",
    "else:\n",
    "    print('哈啰走起！')"
   ]
  },
  {
   "cell_type": "code",
   "execution_count": 34,
   "metadata": {},
   "outputs": [
    {
     "name": "stdout",
     "output_type": "stream",
     "text": [
      "🎈\n"
     ]
    }
   ],
   "source": [
    "# if elif else\n",
    "today = '星期天'\n",
    "if today == '星期天':\n",
    "    print(\"🎈\")\n",
    "elif today == \"星期六\":\n",
    "    print(\"🥯\")\n",
    "elif today == \"星期五\":\n",
    "    print(\"🎞\")\n",
    "else:\n",
    "    print('滚去学习')"
   ]
  },
  {
   "cell_type": "code",
   "execution_count": 35,
   "metadata": {},
   "outputs": [
    {
     "name": "stdout",
     "output_type": "stream",
     "text": [
      "星期一：学习\n",
      "星期二：学习\n",
      "星期三：学习\n"
     ]
    }
   ],
   "source": [
    "list2 = ['星期一：学习','星期二：学习','星期三：学习']\n",
    "# for item in items:\n",
    "#     语句\n",
    "for i in list2:\n",
    "    print(i)"
   ]
  },
  {
   "cell_type": "code",
   "execution_count": 36,
   "metadata": {},
   "outputs": [
    {
     "name": "stdout",
     "output_type": "stream",
     "text": [
      "1\n",
      "2\n",
      "3\n",
      "4\n",
      "5\n",
      "6\n",
      "7\n",
      "8\n",
      "9\n"
     ]
    }
   ],
   "source": [
    "for i in range(1,10):\n",
    "    print(i)"
   ]
  },
  {
   "cell_type": "code",
   "execution_count": 37,
   "metadata": {},
   "outputs": [
    {
     "name": "stdout",
     "output_type": "stream",
     "text": [
      "1\n",
      "2\n",
      "3\n",
      "4\n",
      "5\n",
      "6\n",
      "7\n",
      "8\n",
      "9\n",
      "10\n"
     ]
    }
   ],
   "source": [
    "i = 0\n",
    "while i < 10:\n",
    "    i = i + 1\n",
    "    print(i)"
   ]
  },
  {
   "cell_type": "code",
   "execution_count": 38,
   "metadata": {},
   "outputs": [],
   "source": [
    "# 函数的作用主要是实现功能的复用\n",
    "def sayHello(message):\n",
    "    print(message)"
   ]
  },
  {
   "cell_type": "code",
   "execution_count": 39,
   "metadata": {},
   "outputs": [
    {
     "name": "stdout",
     "output_type": "stream",
     "text": [
      "你好\n"
     ]
    }
   ],
   "source": [
    "sayHello('你好')"
   ]
  },
  {
   "cell_type": "code",
   "execution_count": 40,
   "metadata": {},
   "outputs": [],
   "source": [
    "def sayHello(who,message):\n",
    "    print(who,message)"
   ]
  },
  {
   "cell_type": "code",
   "execution_count": 41,
   "metadata": {},
   "outputs": [
    {
     "name": "stdout",
     "output_type": "stream",
     "text": [
      "小明 你好\n"
     ]
    }
   ],
   "source": [
    "sayHello('小明','你好')"
   ]
  },
  {
   "cell_type": "code",
   "execution_count": 42,
   "metadata": {},
   "outputs": [
    {
     "name": "stdout",
     "output_type": "stream",
     "text": [
      "小明 你好\n"
     ]
    },
    {
     "data": {
      "text/plain": [
       "NoneType"
      ]
     },
     "execution_count": 42,
     "metadata": {},
     "output_type": "execute_result"
    }
   ],
   "source": [
    "type(sayHello('小明','你好'))"
   ]
  },
  {
   "cell_type": "code",
   "execution_count": 43,
   "metadata": {},
   "outputs": [],
   "source": [
    "# 使用return语句来定义函数的返回值，可以是多个返回值。\n",
    "def addNumbers(a,b):\n",
    "    return a+b"
   ]
  },
  {
   "cell_type": "code",
   "execution_count": 44,
   "metadata": {},
   "outputs": [
    {
     "name": "stdout",
     "output_type": "stream",
     "text": [
      "103\n"
     ]
    }
   ],
   "source": [
    "v = addNumbers(100,3)\n",
    "print(v)"
   ]
  },
  {
   "cell_type": "code",
   "execution_count": 45,
   "metadata": {},
   "outputs": [],
   "source": [
    "import mytools"
   ]
  },
  {
   "cell_type": "code",
   "execution_count": 46,
   "metadata": {},
   "outputs": [
    {
     "data": {
      "text/plain": [
       "18"
      ]
     },
     "execution_count": 46,
     "metadata": {},
     "output_type": "execute_result"
    }
   ],
   "source": [
    "mytools.age"
   ]
  },
  {
   "cell_type": "code",
   "execution_count": 47,
   "metadata": {},
   "outputs": [
    {
     "name": "stdout",
     "output_type": "stream",
     "text": [
      "3\n"
     ]
    }
   ],
   "source": [
    "mytools.say('3')"
   ]
  },
  {
   "cell_type": "code",
   "execution_count": 48,
   "metadata": {},
   "outputs": [],
   "source": [
    "import llm"
   ]
  },
  {
   "cell_type": "code",
   "execution_count": 49,
   "metadata": {},
   "outputs": [
    {
     "data": {
      "text/plain": [
       "'1. 月下独行影自怜，心随云动梦难圆。\\n2. 星河长明情未了，风送花香入梦田。\\n3. 红尘一笑为红颜，此生无悔共华年。'"
      ]
     },
     "execution_count": 49,
     "metadata": {},
     "output_type": "execute_result"
    }
   ],
   "source": [
    "llm.xfllm('写三句情诗')"
   ]
  },
  {
   "cell_type": "code",
   "execution_count": 1,
   "metadata": {},
   "outputs": [],
   "source": [
    "import mytools"
   ]
  },
  {
   "cell_type": "code",
   "execution_count": 3,
   "metadata": {},
   "outputs": [
    {
     "name": "stdout",
     "output_type": "stream",
     "text": [
      "变得更好是一个持续的过程，涉及到个人成长、自我提升和目标实现。以下是一些帮助你变得更好的建议：\n",
      "\n",
      "1. **设定目标**：确定你想要达成的具体目标，这些目标应该是具体、可衡量、可实现、相关性强和时限性的（smart原则）。\n",
      "\n",
      "2. **自我反思**：定期花时间思考你的行为、决策和生活方式。识别你的强项和弱点，并思考如何改进。\n",
      "\n",
      "3. **终身学习**：不断学习新技能和知识。这可以通过阅读书籍、上在线课程、参加研讨会或与他人交流来实现。\n",
      "\n",
      "4. **健康生活**：保持健康的饮食习惯，定期锻炼，保证充足的睡眠，避免不良习惯如吸烟和过度饮酒。\n",
      "\n",
      "5. **情绪管理**：学会管理自己的情绪，如通过冥想、瑜伽或其他放松技巧来减轻压力和焦虑。\n",
      "\n",
      "6. **建立良好关系**：与家人、朋友和同事建立积极的关系。良好的人际关系可以提供支持和鼓励。\n",
      "\n",
      "7. **时间管理**：有效地管理你的时间，确保你能专注于最重要的任务，并有足够的时间休息和娱乐。\n",
      "\n",
      "8. **接受挑战**：不要害怕失败，勇于尝试新事物和面对挑战。失败是成功的一部分，它可以教会你宝贵的经验。\n",
      "\n",
      "9. **积极心态**：保持积极的态度，即使在困难时期也要寻找学习和成长的机会。\n",
      "\n",
      "10. **贡献社会**：通过志愿服务或帮助他人，为社会做出贡献，这不仅能帮助他人，也能增强你自己的幸福感和满足感。\n",
      "\n",
      "11. **持续改进**：不断地寻求反馈，并根据反馈来改进自己的行为和习惯。\n",
      "\n",
      "12. **自我激励**：找到激励自己的方法，无论是通过设定奖励、庆祝小胜利还是提醒自己长远的目标。\n",
      "\n",
      "总之，变得更好不是一夜之间的事情，而是需要持续努力和承诺的过程。对自己有耐心，庆祝每一个小的进步，最终你会看到显著的改变。\n"
     ]
    }
   ],
   "source": [
    "result = mytools.xfllm('如何让自己变得更好？')\n",
    "print(result)"
   ]
  }
 ],
 "metadata": {
  "kernelspec": {
   "display_name": "Python 3",
   "language": "python",
   "name": "python3"
  },
  "language_info": {
   "codemirror_mode": {
    "name": "ipython",
    "version": 3
   },
   "file_extension": ".py",
   "mimetype": "text/x-python",
   "name": "python",
   "nbconvert_exporter": "python",
   "pygments_lexer": "ipython3",
   "version": "3.8.10"
  },
  "orig_nbformat": 4
 },
 "nbformat": 4,
 "nbformat_minor": 2
}
