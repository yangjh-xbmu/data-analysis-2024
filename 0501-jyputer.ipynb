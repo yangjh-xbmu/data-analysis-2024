{
 "cells": [
  {
   "cell_type": "code",
   "execution_count": 1,
   "metadata": {},
   "outputs": [
    {
     "name": "stdout",
     "output_type": "stream",
     "text": [
      "这是来自可运行脚本的内容\n"
     ]
    },
    {
     "data": {
      "text/plain": [
       "'\\n这是多行注释的第一行\\n第二行\\n\\n\\n第三行\\n'"
      ]
     },
     "execution_count": 1,
     "metadata": {},
     "output_type": "execute_result"
    }
   ],
   "source": [
    "# 这是一个单行注释\n",
    "print（'这是来自可运行脚本的内容')\n",
    "'''\n",
    "这是多行注释的第一行\n",
    "第二行\n",
    "\n",
    "\n",
    "第三行\n",
    "'''"
   ]
  },
  {
   "cell_type": "code",
   "execution_count": 5,
   "metadata": {},
   "outputs": [
    {
     "data": {
      "text/plain": [
       "bool"
      ]
     },
     "execution_count": 5,
     "metadata": {},
     "output_type": "execute_result"
    }
   ],
   "source": [
    "x = True\n",
    "type(x)"
   ]
  },
  {
   "cell_type": "markdown",
   "metadata": {},
   "source": [
    "元组（Tuple） 和列表非常相似，与列表不同的是，元组一旦创立，就不可改变，也就是说，元组是不可变的序列。\n",
    "\n",
    "## 创建元组¶\n",
    "\n",
    "```py\n",
    "t1 = ()                 # 创建一个空元组\n",
    "t2 = (11,22,33)         # 创建一个包含三个元素的元组\n",
    "t3 = tuple([1,2,3,4])   # 使用列表创建元组\n",
    "t4 = tuple(\"abc\")       # 使用字符串创建元组\n",
    "```\n",
    "## 元组相关方法¶\n",
    "\n",
    "元组也是序列，因此序列能使用的方法，如max , min ,len , sum方法元组也能使用。\n",
    "\n",
    "```\n",
    ">>> t1 = (1, 12, 55, 12, 81)\n",
    ">>> min(t1)\n",
    "1\n",
    ">>> max(t1)\n",
    "81\n",
    ">>> sum(t1)\n",
    "161\n",
    ">>> len(t1)\n",
    "5\n",
    "```\n",
    "## 练习¶\n",
    "使用不同方式定义两个元组，其中一个包含数字元素，将含有数字元素的元组各元素求和。"
   ]
  },
  {
   "cell_type": "code",
   "execution_count": 1,
   "metadata": {},
   "outputs": [
    {
     "data": {
      "text/plain": [
       "tuple"
      ]
     },
     "execution_count": 1,
     "metadata": {},
     "output_type": "execute_result"
    }
   ],
   "source": [
    "t1 = ('2023广告2班','2023广告1班')\n",
    "type(t1)"
   ]
  },
  {
   "cell_type": "code",
   "execution_count": 3,
   "metadata": {},
   "outputs": [
    {
     "name": "stdout",
     "output_type": "stream",
     "text": [
      "2023广告2班\n",
      "2023广告1班\n"
     ]
    }
   ],
   "source": [
    "for item in t1:\n",
    "    print(item)"
   ]
  },
  {
   "cell_type": "code",
   "execution_count": 7,
   "metadata": {},
   "outputs": [
    {
     "data": {
      "text/plain": [
       "list"
      ]
     },
     "execution_count": 7,
     "metadata": {},
     "output_type": "execute_result"
    }
   ],
   "source": [
    "list1 = [1,2,3]\n",
    "type(list1)"
   ]
  },
  {
   "cell_type": "code",
   "execution_count": 5,
   "metadata": {},
   "outputs": [
    {
     "data": {
      "text/plain": [
       "dict"
      ]
     },
     "execution_count": 5,
     "metadata": {},
     "output_type": "execute_result"
    }
   ],
   "source": [
    "friends = {\n",
    "'tom'   : '66666666',\n",
    "'jerry' : '88888888'\n",
    "}\n",
    "type(friends)"
   ]
  },
  {
   "cell_type": "code",
   "execution_count": 11,
   "metadata": {},
   "outputs": [],
   "source": [
    "stu1 = dict(name='小明', age=19, gender='男')\n"
   ]
  },
  {
   "cell_type": "code",
   "execution_count": 14,
   "metadata": {},
   "outputs": [
    {
     "data": {
      "text/plain": [
       "3"
      ]
     },
     "execution_count": 14,
     "metadata": {},
     "output_type": "execute_result"
    }
   ],
   "source": [
    "8%5"
   ]
  },
  {
   "cell_type": "code",
   "execution_count": 18,
   "metadata": {},
   "outputs": [
    {
     "name": "stdout",
     "output_type": "stream",
     "text": [
      "🤣\n"
     ]
    }
   ],
   "source": [
    "today = \"星期五\"\n",
    "if today == \"星期天\":\n",
    "    print(\"😃\")\n",
    "else:\n",
    "    print(\"🤣\")"
   ]
  },
  {
   "cell_type": "code",
   "execution_count": 21,
   "metadata": {},
   "outputs": [
    {
     "name": "stdout",
     "output_type": "stream",
     "text": [
      "😣\n"
     ]
    }
   ],
   "source": [
    "today = '星期二'\n",
    "if today == \"星期一\":\n",
    "    print(\"😶\")\n",
    "elif today == \"星期二\":\n",
    "    print(\"😣\")\n",
    "elif today == \"星期三\":\n",
    "    print(\"😮\")\n",
    "else:\n",
    "    print(\"😃\")"
   ]
  },
  {
   "cell_type": "code",
   "execution_count": 9,
   "metadata": {},
   "outputs": [
    {
     "name": "stdout",
     "output_type": "stream",
     "text": [
      "1\n",
      "2\n",
      "3\n",
      "4\n",
      "5\n",
      "6\n",
      "7\n",
      "8\n"
     ]
    }
   ],
   "source": [
    "# 在一定范围内循环\n",
    "for i in range(1,9):\n",
    "    print(i)"
   ]
  },
  {
   "cell_type": "code",
   "execution_count": 10,
   "metadata": {},
   "outputs": [
    {
     "name": "stdout",
     "output_type": "stream",
     "text": [
      "10\n",
      "9\n",
      "8\n",
      "7\n",
      "6\n",
      "5\n",
      "4\n",
      "3\n",
      "2\n",
      "1\n"
     ]
    }
   ],
   "source": [
    "i = 10\n",
    "while i >= 1:\n",
    "    print(i)\n",
    "    i = i - 1\n",
    "    "
   ]
  },
  {
   "cell_type": "code",
   "execution_count": 12,
   "metadata": {},
   "outputs": [],
   "source": [
    "def sayHello(message):\n",
    "    print(message)"
   ]
  },
  {
   "cell_type": "code",
   "execution_count": 13,
   "metadata": {},
   "outputs": [
    {
     "name": "stdout",
     "output_type": "stream",
     "text": [
      "你好，今天有点冷\n"
     ]
    }
   ],
   "source": [
    "sayHello('你好，今天有点冷')"
   ]
  },
  {
   "cell_type": "code",
   "execution_count": 14,
   "metadata": {},
   "outputs": [],
   "source": [
    "def addNumbers(n1,n2):\n",
    "    return n1+n2"
   ]
  },
  {
   "cell_type": "code",
   "execution_count": 17,
   "metadata": {},
   "outputs": [
    {
     "data": {
      "text/plain": [
       "3"
      ]
     },
     "execution_count": 17,
     "metadata": {},
     "output_type": "execute_result"
    }
   ],
   "source": [
    "addNumbers(1,2)"
   ]
  },
  {
   "cell_type": "code",
   "execution_count": null,
   "metadata": {},
   "outputs": [],
   "source": [
    "# Python中的一切皆为对象\n",
    "\"\"\"在字典中循环时，用 `items()` 方法可同时取出键和对应的值：\"\"\"\n",
    "books = {'标题': 'Python一学就会', '作者': '小明'}\n",
    "for k, v in books.items():\n",
    "    print(k, v)"
   ]
  }
 ],
 "metadata": {
  "kernelspec": {
   "display_name": "Python 3",
   "language": "python",
   "name": "python3"
  },
  "language_info": {
   "codemirror_mode": {
    "name": "ipython",
    "version": 3
   },
   "file_extension": ".py",
   "mimetype": "text/x-python",
   "name": "python",
   "nbconvert_exporter": "python",
   "pygments_lexer": "ipython3",
   "version": "3.8.10"
  },
  "orig_nbformat": 4
 },
 "nbformat": 4,
 "nbformat_minor": 2
}
