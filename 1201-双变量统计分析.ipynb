{
 "cells": [
  {
   "cell_type": "code",
   "execution_count": null,
   "metadata": {},
   "outputs": [],
   "source": [
    "# 教学内容：双变量统计分析——两个定类变量的统计分析"
   ]
  },
  {
   "cell_type": "code",
   "execution_count": 2,
   "metadata": {},
   "outputs": [],
   "source": [
    "import mytools\n",
    "import pandas as pd"
   ]
  },
  {
   "cell_type": "code",
   "execution_count": null,
   "metadata": {},
   "outputs": [],
   "source": [
    "mytools.calling_the_roll(r'stu\\2023级广告学1班学生名单.xlsx')"
   ]
  },
  {
   "cell_type": "code",
   "execution_count": 16,
   "metadata": {},
   "outputs": [],
   "source": [
    "df = pd.read_csv(r'data\\2022计算机设计大赛国奖清理后-增加变量.csv')\n"
   ]
  },
  {
   "cell_type": "code",
   "execution_count": 17,
   "metadata": {},
   "outputs": [
    {
     "data": {
      "text/plain": [
       "0.01467684741193168"
      ]
     },
     "execution_count": 17,
     "metadata": {},
     "output_type": "execute_result"
    }
   ],
   "source": [
    "tau_y = mytools.goodmanKruska_tau_y(df,'学校类别','奖项')\n",
    "tau_y"
   ]
  },
  {
   "cell_type": "code",
   "execution_count": 18,
   "metadata": {},
   "outputs": [
    {
     "data": {
      "text/plain": [
       "'极弱相关或无相关'"
      ]
     },
     "execution_count": 18,
     "metadata": {},
     "output_type": "execute_result"
    }
   ],
   "source": [
    "mytools.相关系数强弱判断(tau_y)"
   ]
  },
  {
   "cell_type": "code",
   "execution_count": 20,
   "metadata": {},
   "outputs": [
    {
     "data": {
      "text/html": [
       "<div>\n",
       "<style scoped>\n",
       "    .dataframe tbody tr th:only-of-type {\n",
       "        vertical-align: middle;\n",
       "    }\n",
       "\n",
       "    .dataframe tbody tr th {\n",
       "        vertical-align: top;\n",
       "    }\n",
       "\n",
       "    .dataframe thead th {\n",
       "        text-align: right;\n",
       "    }\n",
       "</style>\n",
       "<table border=\"1\" class=\"dataframe\">\n",
       "  <thead>\n",
       "    <tr style=\"text-align: right;\">\n",
       "      <th>奖项</th>\n",
       "      <th>一等奖</th>\n",
       "      <th>三等奖</th>\n",
       "      <th>二等奖</th>\n",
       "      <th>All</th>\n",
       "    </tr>\n",
       "    <tr>\n",
       "      <th>学校类别</th>\n",
       "      <th></th>\n",
       "      <th></th>\n",
       "      <th></th>\n",
       "      <th></th>\n",
       "    </tr>\n",
       "  </thead>\n",
       "  <tbody>\n",
       "    <tr>\n",
       "      <th>211</th>\n",
       "      <td>0.146341</td>\n",
       "      <td>0.180645</td>\n",
       "      <td>0.201413</td>\n",
       "      <td>0.187697</td>\n",
       "    </tr>\n",
       "    <tr>\n",
       "      <th>985</th>\n",
       "      <td>0.195122</td>\n",
       "      <td>0.070968</td>\n",
       "      <td>0.120141</td>\n",
       "      <td>0.100946</td>\n",
       "    </tr>\n",
       "    <tr>\n",
       "      <th>双一流</th>\n",
       "      <td>0.146341</td>\n",
       "      <td>0.041935</td>\n",
       "      <td>0.067138</td>\n",
       "      <td>0.059937</td>\n",
       "    </tr>\n",
       "    <tr>\n",
       "      <th>双非</th>\n",
       "      <td>0.487805</td>\n",
       "      <td>0.664516</td>\n",
       "      <td>0.590106</td>\n",
       "      <td>0.619874</td>\n",
       "    </tr>\n",
       "    <tr>\n",
       "      <th>民办</th>\n",
       "      <td>0.024390</td>\n",
       "      <td>0.041935</td>\n",
       "      <td>0.021201</td>\n",
       "      <td>0.031546</td>\n",
       "    </tr>\n",
       "  </tbody>\n",
       "</table>\n",
       "</div>"
      ],
      "text/plain": [
       "奖项         一等奖       三等奖       二等奖       All\n",
       "学校类别                                        \n",
       "211   0.146341  0.180645  0.201413  0.187697\n",
       "985   0.195122  0.070968  0.120141  0.100946\n",
       "双一流   0.146341  0.041935  0.067138  0.059937\n",
       "双非    0.487805  0.664516  0.590106  0.619874\n",
       "民办    0.024390  0.041935  0.021201  0.031546"
      ]
     },
     "execution_count": 20,
     "metadata": {},
     "output_type": "execute_result"
    }
   ],
   "source": [
    "mytools.制作交叉表(df,'学校类别','奖项')"
   ]
  }
 ],
 "metadata": {
  "kernelspec": {
   "display_name": "Python 3",
   "language": "python",
   "name": "python3"
  },
  "language_info": {
   "codemirror_mode": {
    "name": "ipython",
    "version": 3
   },
   "file_extension": ".py",
   "mimetype": "text/x-python",
   "name": "python",
   "nbconvert_exporter": "python",
   "pygments_lexer": "ipython3",
   "version": "3.8.10"
  }
 },
 "nbformat": 4,
 "nbformat_minor": 2
}
