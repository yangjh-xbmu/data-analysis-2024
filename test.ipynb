{
 "cells": [
  {
   "cell_type": "code",
   "execution_count": 3,
   "metadata": {},
   "outputs": [
    {
     "name": "stdout",
     "output_type": "stream",
     "text": [
      "随机抽取的学生姓名是: 杨晶艳\n"
     ]
    },
    {
     "name": "stderr",
     "output_type": "stream",
     "text": [
      "c:\\Program Files\\Python38\\lib\\site-packages\\openpyxl\\styles\\stylesheet.py:226: UserWarning: Workbook contains no default style, apply openpyxl's default\n",
      "  warn(\"Workbook contains no default style, apply openpyxl's default\")\n"
     ]
    }
   ],
   "source": [
    "import pandas as pd\n",
    "import random\n",
    "def calling_the_roll(名册):\n",
    "    # 读取Excel文件\n",
    "    file_path = 名册  # 替换为你的Excel文件路径\n",
    "\n",
    "\n",
    "    # 读取Excel文件中的数据\n",
    "    df = pd.read_excel(file_path)\n",
    "\n",
    "    # 假设学生姓名在第一列，列名为 'Name'\n",
    "    students = df['姓名'].tolist()\n",
    "\n",
    "    # 随机选择一个学生姓名\n",
    "    selected_student = random.choice(students)\n",
    "\n",
    "    print(f\"随机抽取的学生姓名是: {selected_student}\")"
   ]
  }
 ],
 "metadata": {
  "kernelspec": {
   "display_name": "Python 3",
   "language": "python",
   "name": "python3"
  },
  "language_info": {
   "codemirror_mode": {
    "name": "ipython",
    "version": 3
   },
   "file_extension": ".py",
   "mimetype": "text/x-python",
   "name": "python",
   "nbconvert_exporter": "python",
   "pygments_lexer": "ipython3",
   "version": "3.8.10"
  }
 },
 "nbformat": 4,
 "nbformat_minor": 2
}
